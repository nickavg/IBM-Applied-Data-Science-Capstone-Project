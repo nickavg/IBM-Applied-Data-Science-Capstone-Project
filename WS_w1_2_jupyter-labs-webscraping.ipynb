{
    "cells": [
        {
            "metadata": {},
            "cell_type": "markdown",
            "source": "<p style=\"text-align:center\">\n    <a href=\"https://skills.network/?utm_medium=Exinfluencer&utm_source=Exinfluencer&utm_content=000026UJ&utm_term=10006555&utm_id=NA-SkillsNetwork-Channel-SkillsNetworkCoursesIBMDS0321ENSkillsNetwork26802033-2022-01-01\" target=\"_blank\">\n    <img src=\"https://cf-courses-data.s3.us.cloud-object-storage.appdomain.cloud/assets/logos/SN_web_lightmode.png\" width=\"200\" alt=\"Skills Network Logo\"  />\n    </a>\n</p>\n"
        },
        {
            "metadata": {},
            "cell_type": "markdown",
            "source": "# **Space X  Falcon 9 First Stage Landing Prediction**\n"
        },
        {
            "metadata": {},
            "cell_type": "markdown",
            "source": "## Web scraping Falcon 9 and Falcon Heavy Launches Records from Wikipedia\n"
        },
        {
            "metadata": {},
            "cell_type": "markdown",
            "source": "Estimated time needed: **40** minutes\n"
        },
        {
            "metadata": {},
            "cell_type": "markdown",
            "source": "In this lab, you will be performing web scraping to collect Falcon 9 historical launch records from a Wikipedia page titled `List of Falcon 9 and Falcon Heavy launches`\n\n[https://en.wikipedia.org/wiki/List_of_Falcon\\_9\\_and_Falcon_Heavy_launches](https://en.wikipedia.org/wiki/List_of_Falcon\\_9\\_and_Falcon_Heavy_launches?utm_medium=Exinfluencer&utm_source=Exinfluencer&utm_content=000026UJ&utm_term=10006555&utm_id=NA-SkillsNetwork-Channel-SkillsNetworkCoursesIBMDS0321ENSkillsNetwork26802033-2022-01-01)\n"
        },
        {
            "metadata": {},
            "cell_type": "markdown",
            "source": "![](https://cf-courses-data.s3.us.cloud-object-storage.appdomain.cloud/IBM-DS0321EN-SkillsNetwork/labs/module\\_1\\_L2/images/Falcon9\\_rocket_family.svg)\n"
        },
        {
            "metadata": {},
            "cell_type": "markdown",
            "source": "Falcon 9 first stage will land successfully\n"
        },
        {
            "metadata": {},
            "cell_type": "markdown",
            "source": "![](https://cf-courses-data.s3.us.cloud-object-storage.appdomain.cloud/IBMDeveloperSkillsNetwork-DS0701EN-SkillsNetwork/api/Images/landing\\_1.gif)\n"
        },
        {
            "metadata": {},
            "cell_type": "markdown",
            "source": "Several examples of an unsuccessful landing are shown here:\n"
        },
        {
            "metadata": {},
            "cell_type": "markdown",
            "source": "![](https://cf-courses-data.s3.us.cloud-object-storage.appdomain.cloud/IBMDeveloperSkillsNetwork-DS0701EN-SkillsNetwork/api/Images/crash.gif)\n"
        },
        {
            "metadata": {},
            "cell_type": "markdown",
            "source": "More specifically, the launch records are stored in a HTML table shown below:\n"
        },
        {
            "metadata": {},
            "cell_type": "markdown",
            "source": "![](https://cf-courses-data.s3.us.cloud-object-storage.appdomain.cloud/IBM-DS0321EN-SkillsNetwork/labs/module\\_1\\_L2/images/falcon9-launches-wiki.png)\n"
        },
        {
            "metadata": {},
            "cell_type": "markdown",
            "source": "## Objectives\n\nWeb scrap Falcon 9 launch records with `BeautifulSoup`:\n\n*   Extract a Falcon 9 launch records HTML table from Wikipedia\n*   Parse the table and convert it into a Pandas data frame\n"
        },
        {
            "metadata": {},
            "cell_type": "markdown",
            "source": "First let's import required packages for this lab\n"
        },
        {
            "metadata": {},
            "cell_type": "code",
            "source": "!pip3 install beautifulsoup4\n!pip3 install requests",
            "execution_count": 1,
            "outputs": [
                {
                    "name": "stdout",
                    "output_type": "stream",
                    "text": "Requirement already satisfied: beautifulsoup4 in c:\\users\\vvill\\appdata\\local\\programs\\python\\python310\\lib\\site-packages (4.11.1)\nRequirement already satisfied: soupsieve>1.2 in c:\\users\\vvill\\appdata\\local\\programs\\python\\python310\\lib\\site-packages (from beautifulsoup4) (2.3.2.post1)\n"
                },
                {
                    "name": "stderr",
                    "output_type": "stream",
                    "text": "\n[notice] A new release of pip available: 22.2.2 -> 22.3.1\n[notice] To update, run: python.exe -m pip install --upgrade pip\n"
                },
                {
                    "name": "stdout",
                    "output_type": "stream",
                    "text": "Requirement already satisfied: requests in c:\\users\\vvill\\appdata\\local\\programs\\python\\python310\\lib\\site-packages (2.28.1)"
                },
                {
                    "name": "stderr",
                    "output_type": "stream",
                    "text": "\n[notice] A new release of pip available: 22.2.2 -> 22.3.1\n[notice] To update, run: python.exe -m pip install --upgrade pip\n"
                },
                {
                    "name": "stdout",
                    "output_type": "stream",
                    "text": "\nRequirement already satisfied: charset-normalizer<3,>=2 in c:\\users\\vvill\\appdata\\local\\programs\\python\\python310\\lib\\site-packages (from requests) (2.1.1)\nRequirement already satisfied: idna<4,>=2.5 in c:\\users\\vvill\\appdata\\local\\programs\\python\\python310\\lib\\site-packages (from requests) (3.3)\nRequirement already satisfied: urllib3<1.27,>=1.21.1 in c:\\users\\vvill\\appdata\\local\\programs\\python\\python310\\lib\\site-packages (from requests) (1.26.12)\nRequirement already satisfied: certifi>=2017.4.17 in c:\\users\\vvill\\appdata\\local\\programs\\python\\python310\\lib\\site-packages (from requests) (2022.6.15)\n"
                }
            ]
        },
        {
            "metadata": {},
            "cell_type": "code",
            "source": "import sys\n\nimport requests\nfrom bs4 import BeautifulSoup\nimport re\nimport unicodedata\nimport pandas as pd",
            "execution_count": 2,
            "outputs": []
        },
        {
            "metadata": {},
            "cell_type": "markdown",
            "source": "and we will provide some helper functions for you to process web scraped HTML table\n"
        },
        {
            "metadata": {},
            "cell_type": "code",
            "source": "def date_time(table_cells):\n    \"\"\"\n    This function returns the data and time from the HTML  table cell\n    Input: the  element of a table data cell extracts extra row\n    \"\"\"\n    return [data_time.strip() for data_time in list(table_cells.strings)][0:2]\n\ndef booster_version(table_cells):\n    \"\"\"\n    This function returns the booster version from the HTML  table cell \n    Input: the  element of a table data cell extracts extra row\n    \"\"\"\n    out=''.join([booster_version for i,booster_version in enumerate( table_cells.strings) if i%2==0][0:-1])\n    return out\n\ndef landing_status(table_cells):\n    \"\"\"\n    This function returns the landing status from the HTML table cell \n    Input: the  element of a table data cell extracts extra row\n    \"\"\"\n    out=[i for i in table_cells.strings][0]\n    return out\n\n\ndef get_mass(table_cells):\n    mass=unicodedata.normalize(\"NFKD\", table_cells.text).strip()\n    if mass:\n        mass.find(\"kg\")\n        new_mass=mass[0:mass.find(\"kg\")+2]\n    else:\n        new_mass=0\n    return new_mass\n\n\ndef extract_column_from_header(row):\n    \"\"\"\n    This function returns the landing status from the HTML table cell \n    Input: the  element of a table data cell extracts extra row\n    \"\"\"\n    if (row.br):\n        row.br.extract()\n    if row.a:\n        row.a.extract()\n    if row.sup:\n        row.sup.extract()\n        \n    colunm_name = ' '.join(row.contents)\n    \n    # Filter the digit and empty names\n    if not(colunm_name.strip().isdigit()):\n        colunm_name = colunm_name.strip()\n        return colunm_name    \n",
            "execution_count": 3,
            "outputs": []
        },
        {
            "metadata": {},
            "cell_type": "markdown",
            "source": "To keep the lab tasks consistent, you will be asked to scrape the data from a snapshot of the  `List of Falcon 9 and Falcon Heavy launches` Wikipage updated on\n`9th June 2021`\n"
        },
        {
            "metadata": {},
            "cell_type": "code",
            "source": "static_url = \"https://en.wikipedia.org/w/index.php?title=List_of_Falcon_9_and_Falcon_Heavy_launches&oldid=1027686922\"",
            "execution_count": 4,
            "outputs": []
        },
        {
            "metadata": {},
            "cell_type": "markdown",
            "source": "Next, request the HTML page from the above URL and get a `response` object\n"
        },
        {
            "metadata": {},
            "cell_type": "markdown",
            "source": "### TASK 1: Request the Falcon9 Launch Wiki page from its URL\n"
        },
        {
            "metadata": {},
            "cell_type": "markdown",
            "source": "First, let's perform an HTTP GET method to request the Falcon9 Launch HTML page, as an HTTP response.\n"
        },
        {
            "metadata": {},
            "cell_type": "code",
            "source": "# use requests.get() method with the provided static_url\n# assign the response to a object\ndata = requests.get(static_url).text",
            "execution_count": 5,
            "outputs": []
        },
        {
            "metadata": {},
            "cell_type": "markdown",
            "source": "Create a `BeautifulSoup` object from the HTML `response`\n"
        },
        {
            "metadata": {},
            "cell_type": "code",
            "source": "# Use BeautifulSoup() to create a BeautifulSoup object from a response text\n# content\nsoup = BeautifulSoup(data,\"html.parser\")",
            "execution_count": 6,
            "outputs": []
        },
        {
            "metadata": {},
            "cell_type": "markdown",
            "source": "Print the page title to verify if the `BeautifulSoup` object was created properly\n"
        },
        {
            "metadata": {},
            "cell_type": "code",
            "source": "# Use soup.title attribute\npage_title_name = soup.title\npage_title_name",
            "execution_count": 7,
            "outputs": [
                {
                    "data": {
                        "text/plain": "<title>List of Falcon 9 and Falcon Heavy launches - Wikipedia</title>"
                    },
                    "execution_count": 7,
                    "metadata": {},
                    "output_type": "execute_result"
                }
            ]
        },
        {
            "metadata": {},
            "cell_type": "markdown",
            "source": "### TASK 2: Extract all column/variable names from the HTML table header\n"
        },
        {
            "metadata": {},
            "cell_type": "markdown",
            "source": "Next, we want to collect all relevant column names from the HTML table header\n"
        },
        {
            "metadata": {},
            "cell_type": "markdown",
            "source": "Let's try to find all tables on the wiki page first. If you need to refresh your memory about `BeautifulSoup`, please check the external reference link towards the end of this lab\n"
        },
        {
            "metadata": {},
            "cell_type": "code",
            "source": "# Use the find_all function in the BeautifulSoup object, with element type\n# `table`\n# Assign the result to a list called `html_tables`\nhtml_tables = soup.find_all('table')",
            "execution_count": 8,
            "outputs": []
        },
        {
            "metadata": {},
            "cell_type": "markdown",
            "source": "Starting from the third table is our target table contains the actual launch records.\n"
        },
        {
            "metadata": {},
            "cell_type": "code",
            "source": "# Let's print the third table and check its content\nfirst_launch_table = html_tables[2]\nprint(first_launch_table)",
            "execution_count": 9,
            "outputs": [
                {
                    "name": "stdout",
                    "output_type": "stream",
                    "text": "<table class=\"wikitable plainrowheaders collapsible\" style=\"width: 100%;\">\n<tbody><tr>\n<th scope=\"col\">Flight No.\n</th>\n<th scope=\"col\">Date and<br/>time (<a href=\"/wiki/Coordinated_Universal_Time\" title=\"Coordinated Universal Time\">UTC</a>)\n</th>\n<th scope=\"col\"><a href=\"/wiki/List_of_Falcon_9_first-stage_boosters\" title=\"List of Falcon 9 first-stage boosters\">Version,<br/>Booster</a> <sup class=\"reference\" id=\"cite_ref-booster_11-0\"><a href=\"#cite_note-booster-11\">[b]</a></sup>\n</th>\n<th scope=\"col\">Launch site\n</th>\n<th scope=\"col\">Payload<sup class=\"reference\" id=\"cite_ref-Dragon_12-0\"><a href=\"#cite_note-Dragon-12\">[c]</a></sup>\n</th>\n<th scope=\"col\">Payload mass\n</th>\n<th scope=\"col\">Orbit\n</th>\n<th scope=\"col\">Customer\n</th>\n<th scope=\"col\">Launch<br/>outcome\n</th>\n<th scope=\"col\"><a href=\"/wiki/Falcon_9_first-stage_landing_tests\" title=\"Falcon 9 first-stage landing tests\">Booster<br/>landing</a>\n</th></tr>\n<tr>\n<th rowspan=\"2\" scope=\"row\" style=\"text-align:center;\">1\n</th>\n<td>4 June 2010,<br/>18:45\n</td>\n<td><a href=\"/wiki/Falcon_9_v1.0\" title=\"Falcon 9 v1.0\">F9 v1.0</a><sup class=\"reference\" id=\"cite_ref-MuskMay2012_13-0\"><a href=\"#cite_note-MuskMay2012-13\">[7]</a></sup><br/>B0003.1<sup class=\"reference\" id=\"cite_ref-block_numbers_14-0\"><a href=\"#cite_note-block_numbers-14\">[8]</a></sup>\n</td>\n<td><a href=\"/wiki/Cape_Canaveral_Space_Force_Station\" title=\"Cape Canaveral Space Force Station\">CCAFS</a>,<br/><a href=\"/wiki/Cape_Canaveral_Space_Launch_Complex_40\" title=\"Cape Canaveral Space Launch Complex 40\">SLC-40</a>\n</td>\n<td><a href=\"/wiki/Dragon_Spacecraft_Qualification_Unit\" title=\"Dragon Spacecraft Qualification Unit\">Dragon Spacecraft Qualification Unit</a>\n</td>\n<td>\n</td>\n<td><a href=\"/wiki/Low_Earth_orbit\" title=\"Low Earth orbit\">LEO</a>\n</td>\n<td><a href=\"/wiki/SpaceX\" title=\"SpaceX\">SpaceX</a>\n</td>\n<td class=\"table-success\" style=\"background: #9EFF9E; vertical-align: middle; text-align: center;\">Success\n</td>\n<td class=\"table-failure\" style=\"background: #FFC7C7; vertical-align: middle; text-align: center;\">Failure<sup class=\"reference\" id=\"cite_ref-ns20110930_15-0\"><a href=\"#cite_note-ns20110930-15\">[9]</a></sup><sup class=\"reference\" id=\"cite_ref-16\"><a href=\"#cite_note-16\">[10]</a></sup><br/><small>(parachute)</small>\n</td></tr>\n<tr>\n<td colspan=\"9\">First flight of Falcon 9 v1.0.<sup class=\"reference\" id=\"cite_ref-sfn20100604_17-0\"><a href=\"#cite_note-sfn20100604-17\">[11]</a></sup> Used a boilerplate version of Dragon capsule which was not designed to separate from the second stage.<small>(<a href=\"#First_flight_of_Falcon_9\">more details below</a>)</small> Attempted to recover the first stage by parachuting it into the ocean, but it burned up on reentry, before the parachutes even deployed.<sup class=\"reference\" id=\"cite_ref-parachute_18-0\"><a href=\"#cite_note-parachute-18\">[12]</a></sup>\n</td></tr>\n<tr>\n<th rowspan=\"2\" scope=\"row\" style=\"text-align:center;\">2\n</th>\n<td>8 December 2010,<br/>15:43<sup class=\"reference\" id=\"cite_ref-spaceflightnow_Clark_Launch_Report_19-0\"><a href=\"#cite_note-spaceflightnow_Clark_Launch_Report-19\">[13]</a></sup>\n</td>\n<td><a href=\"/wiki/Falcon_9_v1.0\" title=\"Falcon 9 v1.0\">F9 v1.0</a><sup class=\"reference\" id=\"cite_ref-MuskMay2012_13-1\"><a href=\"#cite_note-MuskMay2012-13\">[7]</a></sup><br/>B0004.1<sup class=\"reference\" id=\"cite_ref-block_numbers_14-1\"><a href=\"#cite_note-block_numbers-14\">[8]</a></sup>\n</td>\n<td><a href=\"/wiki/Cape_Canaveral_Space_Force_Station\" title=\"Cape Canaveral Space Force Station\">CCAFS</a>,<br/><a href=\"/wiki/Cape_Canaveral_Space_Launch_Complex_40\" title=\"Cape Canaveral Space Launch Complex 40\">SLC-40</a>\n</td>\n<td><a href=\"/wiki/SpaceX_Dragon\" title=\"SpaceX Dragon\">Dragon</a> <a class=\"mw-redirect\" href=\"/wiki/COTS_Demo_Flight_1\" title=\"COTS Demo Flight 1\">demo flight C1</a><br/>(Dragon C101)\n</td>\n<td>\n</td>\n<td><a href=\"/wiki/Low_Earth_orbit\" title=\"Low Earth orbit\">LEO</a> (<a href=\"/wiki/International_Space_Station\" title=\"International Space Station\">ISS</a>)\n</td>\n<td><div class=\"plainlist\">\n<ul><li><a href=\"/wiki/NASA\" title=\"NASA\">NASA</a> (<a href=\"/wiki/Commercial_Orbital_Transportation_Services\" title=\"Commercial Orbital Transportation Services\">COTS</a>)</li>\n<li><a href=\"/wiki/National_Reconnaissance_Office\" title=\"National Reconnaissance Office\">NRO</a></li></ul>\n</div>\n</td>\n<td class=\"table-success\" style=\"background: #9EFF9E; vertical-align: middle; text-align: center;\">Success<sup class=\"reference\" id=\"cite_ref-ns20110930_15-1\"><a href=\"#cite_note-ns20110930-15\">[9]</a></sup>\n</td>\n<td class=\"table-failure\" style=\"background: #FFC7C7; vertical-align: middle; text-align: center;\">Failure<sup class=\"reference\" id=\"cite_ref-ns20110930_15-2\"><a href=\"#cite_note-ns20110930-15\">[9]</a></sup><sup class=\"reference\" id=\"cite_ref-20\"><a href=\"#cite_note-20\">[14]</a></sup><br/><small>(parachute)</small>\n</td></tr>\n<tr>\n<td colspan=\"9\">Maiden flight of <a class=\"mw-redirect\" href=\"/wiki/Dragon_capsule\" title=\"Dragon capsule\">Dragon capsule</a>, consisting of over 3 hours of testing thruster maneuvering and reentry.<sup class=\"reference\" id=\"cite_ref-spaceflightnow_Clark_unleashing_Dragon_21-0\"><a href=\"#cite_note-spaceflightnow_Clark_unleashing_Dragon-21\">[15]</a></sup> Attempted to recover the first stage by parachuting it into the ocean, but it disintegrated upon reentry, before the parachutes were deployed.<sup class=\"reference\" id=\"cite_ref-parachute_18-1\"><a href=\"#cite_note-parachute-18\">[12]</a></sup> <small>(<a href=\"#COTS_demo_missions\">more details below</a>)</small> It also included two <a href=\"/wiki/CubeSat\" title=\"CubeSat\">CubeSats</a>,<sup class=\"reference\" id=\"cite_ref-NRO_Taps_Boeing_for_Next_Batch_of_CubeSats_22-0\"><a href=\"#cite_note-NRO_Taps_Boeing_for_Next_Batch_of_CubeSats-22\">[16]</a></sup> and a wheel of <a href=\"/wiki/Brou%C3%A8re\" title=\"Brou\u00e8re\">Brou\u00e8re</a> cheese.\n</td></tr>\n<tr>\n<th rowspan=\"2\" scope=\"row\" style=\"text-align:center;\">3\n</th>\n<td>22 May 2012,<br/>07:44<sup class=\"reference\" id=\"cite_ref-BBC_new_era_23-0\"><a href=\"#cite_note-BBC_new_era-23\">[17]</a></sup>\n</td>\n<td><a href=\"/wiki/Falcon_9_v1.0\" title=\"Falcon 9 v1.0\">F9 v1.0</a><sup class=\"reference\" id=\"cite_ref-MuskMay2012_13-2\"><a href=\"#cite_note-MuskMay2012-13\">[7]</a></sup><br/>B0005.1<sup class=\"reference\" id=\"cite_ref-block_numbers_14-2\"><a href=\"#cite_note-block_numbers-14\">[8]</a></sup>\n</td>\n<td><a href=\"/wiki/Cape_Canaveral_Space_Force_Station\" title=\"Cape Canaveral Space Force Station\">CCAFS</a>,<br/><a href=\"/wiki/Cape_Canaveral_Space_Launch_Complex_40\" title=\"Cape Canaveral Space Launch Complex 40\">SLC-40</a>\n</td>\n<td><a href=\"/wiki/SpaceX_Dragon\" title=\"SpaceX Dragon\">Dragon</a> <a class=\"mw-redirect\" href=\"/wiki/Dragon_C2%2B\" title=\"Dragon C2+\">demo flight C2+</a><sup class=\"reference\" id=\"cite_ref-C2_24-0\"><a href=\"#cite_note-C2-24\">[18]</a></sup><br/>(Dragon C102)\n</td>\n<td>525\u00a0kg (1,157\u00a0lb)<sup class=\"reference\" id=\"cite_ref-25\"><a href=\"#cite_note-25\">[19]</a></sup>\n</td>\n<td><a href=\"/wiki/Low_Earth_orbit\" title=\"Low Earth orbit\">LEO</a> (<a href=\"/wiki/International_Space_Station\" title=\"International Space Station\">ISS</a>)\n</td>\n<td><a href=\"/wiki/NASA\" title=\"NASA\">NASA</a> (<a href=\"/wiki/Commercial_Orbital_Transportation_Services\" title=\"Commercial Orbital Transportation Services\">COTS</a>)\n</td>\n<td class=\"table-success\" style=\"background: #9EFF9E; vertical-align: middle; text-align: center;\">Success<sup class=\"reference\" id=\"cite_ref-26\"><a href=\"#cite_note-26\">[20]</a></sup>\n</td>\n<td class=\"table-noAttempt\" style=\"background: #EEE; vertical-align: middle; white-space: nowrap; text-align: center;\">No attempt\n</td></tr>\n<tr>\n<td colspan=\"9\">Dragon spacecraft demonstrated a series of tests before it was allowed to approach the <a href=\"/wiki/International_Space_Station\" title=\"International Space Station\">International Space Station</a>. Two days later, it became the first commercial spacecraft to board the ISS.<sup class=\"reference\" id=\"cite_ref-BBC_new_era_23-1\"><a href=\"#cite_note-BBC_new_era-23\">[17]</a></sup> <small>(<a href=\"#COTS_demo_missions\">more details below</a>)</small>\n</td></tr>\n<tr>\n<th rowspan=\"3\" scope=\"row\" style=\"text-align:center;\">4\n</th>\n<td rowspan=\"2\">8 October 2012,<br/>00:35<sup class=\"reference\" id=\"cite_ref-SFN_LLog_27-0\"><a href=\"#cite_note-SFN_LLog-27\">[21]</a></sup>\n</td>\n<td rowspan=\"2\"><a href=\"/wiki/Falcon_9_v1.0\" title=\"Falcon 9 v1.0\">F9 v1.0</a><sup class=\"reference\" id=\"cite_ref-MuskMay2012_13-3\"><a href=\"#cite_note-MuskMay2012-13\">[7]</a></sup><br/>B0006.1<sup class=\"reference\" id=\"cite_ref-block_numbers_14-3\"><a href=\"#cite_note-block_numbers-14\">[8]</a></sup>\n</td>\n<td rowspan=\"2\"><a href=\"/wiki/Cape_Canaveral_Space_Force_Station\" title=\"Cape Canaveral Space Force Station\">CCAFS</a>,<br/><a href=\"/wiki/Cape_Canaveral_Space_Launch_Complex_40\" title=\"Cape Canaveral Space Launch Complex 40\">SLC-40</a>\n</td>\n<td><a href=\"/wiki/SpaceX_CRS-1\" title=\"SpaceX CRS-1\">SpaceX CRS-1</a><sup class=\"reference\" id=\"cite_ref-sxManifest20120925_28-0\"><a href=\"#cite_note-sxManifest20120925-28\">[22]</a></sup><br/>(Dragon C103)\n</td>\n<td>4,700\u00a0kg (10,400\u00a0lb)\n</td>\n<td><a href=\"/wiki/Low_Earth_orbit\" title=\"Low Earth orbit\">LEO</a> (<a href=\"/wiki/International_Space_Station\" title=\"International Space Station\">ISS</a>)\n</td>\n<td><a href=\"/wiki/NASA\" title=\"NASA\">NASA</a> (<a href=\"/wiki/Commercial_Resupply_Services\" title=\"Commercial Resupply Services\">CRS</a>)\n</td>\n<td class=\"table-success\" style=\"background: #9EFF9E; vertical-align: middle; text-align: center;\">Success\n</td>\n<td rowspan=\"2\" style=\"background:#ececec; text-align:center;\"><span class=\"nowrap\">No attempt</span>\n</td></tr>\n<tr>\n<td><a href=\"/wiki/Orbcomm_(satellite)\" title=\"Orbcomm (satellite)\">Orbcomm-OG2</a><sup class=\"reference\" id=\"cite_ref-Orbcomm_29-0\"><a href=\"#cite_note-Orbcomm-29\">[23]</a></sup>\n</td>\n<td>172\u00a0kg (379\u00a0lb)<sup class=\"reference\" id=\"cite_ref-gunter-og2_30-0\"><a href=\"#cite_note-gunter-og2-30\">[24]</a></sup>\n</td>\n<td><a href=\"/wiki/Low_Earth_orbit\" title=\"Low Earth orbit\">LEO</a>\n</td>\n<td><a href=\"/wiki/Orbcomm\" title=\"Orbcomm\">Orbcomm</a>\n</td>\n<td class=\"table-partial\" style=\"background: #FE9; vertical-align: middle; text-align: center;\">Partial failure<sup class=\"reference\" id=\"cite_ref-nyt-20121030_31-0\"><a href=\"#cite_note-nyt-20121030-31\">[25]</a></sup>\n</td></tr>\n<tr>\n<td colspan=\"9\">CRS-1 was successful, but the <a href=\"/wiki/Secondary_payload\" title=\"Secondary payload\">secondary payload</a> was inserted into an abnormally low orbit and subsequently lost. This was due to one of the nine <a href=\"/wiki/SpaceX_Merlin\" title=\"SpaceX Merlin\">Merlin engines</a> shutting down during the launch, and NASA declining a second reignition, as per <a href=\"/wiki/International_Space_Station\" title=\"International Space Station\">ISS</a> visiting vehicle safety rules, the primary payload owner is contractually allowed to decline a second reignition. NASA stated that this was because SpaceX could not guarantee a high enough likelihood of the second stage completing the second burn successfully which was required to avoid any risk of secondary payload's collision with the ISS.<sup class=\"reference\" id=\"cite_ref-OrbcommTotalLoss_32-0\"><a href=\"#cite_note-OrbcommTotalLoss-32\">[26]</a></sup><sup class=\"reference\" id=\"cite_ref-sn20121011_33-0\"><a href=\"#cite_note-sn20121011-33\">[27]</a></sup><sup class=\"reference\" id=\"cite_ref-34\"><a href=\"#cite_note-34\">[28]</a></sup>\n</td></tr>\n<tr>\n<th rowspan=\"2\" scope=\"row\" style=\"text-align:center;\">5\n</th>\n<td>1 March 2013,<br/>15:10\n</td>\n<td><a href=\"/wiki/Falcon_9_v1.0\" title=\"Falcon 9 v1.0\">F9 v1.0</a><sup class=\"reference\" id=\"cite_ref-MuskMay2012_13-4\"><a href=\"#cite_note-MuskMay2012-13\">[7]</a></sup><br/>B0007.1<sup class=\"reference\" id=\"cite_ref-block_numbers_14-4\"><a href=\"#cite_note-block_numbers-14\">[8]</a></sup>\n</td>\n<td><a href=\"/wiki/Cape_Canaveral_Space_Force_Station\" title=\"Cape Canaveral Space Force Station\">CCAFS</a>,<br/><a href=\"/wiki/Cape_Canaveral_Space_Launch_Complex_40\" title=\"Cape Canaveral Space Launch Complex 40\">SLC-40</a>\n</td>\n<td><a href=\"/wiki/SpaceX_CRS-2\" title=\"SpaceX CRS-2\">SpaceX CRS-2</a><sup class=\"reference\" id=\"cite_ref-sxManifest20120925_28-1\"><a href=\"#cite_note-sxManifest20120925-28\">[22]</a></sup><br/>(Dragon C104)\n</td>\n<td>4,877\u00a0kg (10,752\u00a0lb)\n</td>\n<td><a href=\"/wiki/Low_Earth_orbit\" title=\"Low Earth orbit\">LEO</a> (<a class=\"mw-redirect\" href=\"/wiki/ISS\" title=\"ISS\">ISS</a>)\n</td>\n<td><a href=\"/wiki/NASA\" title=\"NASA\">NASA</a> (<a href=\"/wiki/Commercial_Resupply_Services\" title=\"Commercial Resupply Services\">CRS</a>)\n</td>\n<td class=\"table-success\" style=\"background: #9EFF9E; vertical-align: middle; text-align: center;\">Success\n</td>\n<td class=\"table-noAttempt\" style=\"background: #EEE; vertical-align: middle; white-space: nowrap; text-align: center;\">No attempt\n</td></tr>\n<tr>\n<td colspan=\"9\">Last launch of the original Falcon 9 v1.0 <a href=\"/wiki/Launch_vehicle\" title=\"Launch vehicle\">launch vehicle</a>, first use of the unpressurized trunk section of Dragon.<sup class=\"reference\" id=\"cite_ref-sxf9_20110321_35-0\"><a href=\"#cite_note-sxf9_20110321-35\">[29]</a></sup>\n</td></tr>\n<tr>\n<th rowspan=\"2\" scope=\"row\" style=\"text-align:center;\">6\n</th>\n<td>29 September 2013,<br/>16:00<sup class=\"reference\" id=\"cite_ref-pa20130930_36-0\"><a href=\"#cite_note-pa20130930-36\">[30]</a></sup>\n</td>\n<td><a href=\"/wiki/Falcon_9_v1.1\" title=\"Falcon 9 v1.1\">F9 v1.1</a><sup class=\"reference\" id=\"cite_ref-MuskMay2012_13-5\"><a href=\"#cite_note-MuskMay2012-13\">[7]</a></sup><br/>B1003<sup class=\"reference\" id=\"cite_ref-block_numbers_14-5\"><a href=\"#cite_note-block_numbers-14\">[8]</a></sup>\n</td>\n<td><a class=\"mw-redirect\" href=\"/wiki/Vandenberg_Air_Force_Base\" title=\"Vandenberg Air Force Base\">VAFB</a>,<br/><a href=\"/wiki/Vandenberg_Space_Launch_Complex_4\" title=\"Vandenberg Space Launch Complex 4\">SLC-4E</a>\n</td>\n<td><a href=\"/wiki/CASSIOPE\" title=\"CASSIOPE\">CASSIOPE</a><sup class=\"reference\" id=\"cite_ref-sxManifest20120925_28-2\"><a href=\"#cite_note-sxManifest20120925-28\">[22]</a></sup><sup class=\"reference\" id=\"cite_ref-CASSIOPE_MDA_37-0\"><a href=\"#cite_note-CASSIOPE_MDA-37\">[31]</a></sup>\n</td>\n<td>500\u00a0kg (1,100\u00a0lb)\n</td>\n<td><a href=\"/wiki/Polar_orbit\" title=\"Polar orbit\">Polar orbit</a> <a href=\"/wiki/Low_Earth_orbit\" title=\"Low Earth orbit\">LEO</a>\n</td>\n<td><a href=\"/wiki/Maxar_Technologies\" title=\"Maxar Technologies\">MDA</a>\n</td>\n<td class=\"table-success\" style=\"background: #9EFF9E; vertical-align: middle; text-align: center;\">Success<sup class=\"reference\" id=\"cite_ref-pa20130930_36-1\"><a href=\"#cite_note-pa20130930-36\">[30]</a></sup>\n</td>\n<td class=\"table-no2\" style=\"background: #FFE3E3; color: black; vertical-align: middle; text-align: center;\">Uncontrolled<br/><small>(ocean)</small><sup class=\"reference\" id=\"cite_ref-ocean_landing_38-0\"><a href=\"#cite_note-ocean_landing-38\">[d]</a></sup>\n</td></tr>\n<tr>\n<td colspan=\"9\">First commercial mission with a private customer, first launch from Vandenberg, and demonstration flight of Falcon 9 v1.1 with an improved 13-tonne to LEO capacity.<sup class=\"reference\" id=\"cite_ref-sxf9_20110321_35-1\"><a href=\"#cite_note-sxf9_20110321-35\">[29]</a></sup> After separation from the second stage carrying Canadian commercial and scientific satellites, the first stage booster performed a controlled reentry,<sup class=\"reference\" id=\"cite_ref-39\"><a href=\"#cite_note-39\">[32]</a></sup> and an <a href=\"/wiki/Falcon_9_first-stage_landing_tests\" title=\"Falcon 9 first-stage landing tests\">ocean touchdown test</a> for the first time. This provided good test data, even though the booster started rolling as it neared the ocean, leading to the shutdown of the central engine as the roll depleted it of fuel, resulting in a hard impact with the ocean.<sup class=\"reference\" id=\"cite_ref-pa20130930_36-2\"><a href=\"#cite_note-pa20130930-36\">[30]</a></sup> This was the first known attempt of a rocket engine being lit to perform a supersonic retro propulsion, and allowed SpaceX to enter a public-private partnership with <a href=\"/wiki/NASA\" title=\"NASA\">NASA</a> and its Mars entry, descent, and landing technologies research projects.<sup class=\"reference\" id=\"cite_ref-40\"><a href=\"#cite_note-40\">[33]</a></sup> <small>(<a href=\"#Maiden_flight_of_v1.1\">more details below</a>)</small>\n</td></tr>\n<tr>\n<th rowspan=\"2\" scope=\"row\" style=\"text-align:center;\">7\n</th>\n<td>3 December 2013,<br/>22:41<sup class=\"reference\" id=\"cite_ref-sfn_wwls20130624_41-0\"><a href=\"#cite_note-sfn_wwls20130624-41\">[34]</a></sup>\n</td>\n<td><a href=\"/wiki/Falcon_9_v1.1\" title=\"Falcon 9 v1.1\">F9 v1.1</a><br/>B1004\n</td>\n<td><a href=\"/wiki/Cape_Canaveral_Space_Force_Station\" title=\"Cape Canaveral Space Force Station\">CCAFS</a>,<br/><a href=\"/wiki/Cape_Canaveral_Space_Launch_Complex_40\" title=\"Cape Canaveral Space Launch Complex 40\">SLC-40</a>\n</td>\n<td><a href=\"/wiki/SES-8\" title=\"SES-8\">SES-8</a><sup class=\"reference\" id=\"cite_ref-sxManifest20120925_28-3\"><a href=\"#cite_note-sxManifest20120925-28\">[22]</a></sup><sup class=\"reference\" id=\"cite_ref-spx-pr_42-0\"><a href=\"#cite_note-spx-pr-42\">[35]</a></sup><sup class=\"reference\" id=\"cite_ref-aw20110323_43-0\"><a href=\"#cite_note-aw20110323-43\">[36]</a></sup>\n</td>\n<td>3,170\u00a0kg (6,990\u00a0lb)\n</td>\n<td><a href=\"/wiki/Geostationary_transfer_orbit\" title=\"Geostationary transfer orbit\">GTO</a>\n</td>\n<td><a href=\"/wiki/SES_S.A.\" title=\"SES S.A.\">SES</a>\n</td>\n<td class=\"table-success\" style=\"background: #9EFF9E; vertical-align: middle; text-align: center;\">Success<sup class=\"reference\" id=\"cite_ref-SNMissionStatus7_44-0\"><a href=\"#cite_note-SNMissionStatus7-44\">[37]</a></sup>\n</td>\n<td class=\"table-noAttempt\" style=\"background: #EEE; vertical-align: middle; white-space: nowrap; text-align: center;\">No attempt<br/><sup class=\"reference\" id=\"cite_ref-sf10120131203_45-0\"><a href=\"#cite_note-sf10120131203-45\">[38]</a></sup>\n</td></tr>\n<tr>\n<td colspan=\"9\">First <a href=\"/wiki/Geostationary_transfer_orbit\" title=\"Geostationary transfer orbit\">Geostationary transfer orbit</a> (GTO) launch for Falcon 9,<sup class=\"reference\" id=\"cite_ref-spx-pr_42-1\"><a href=\"#cite_note-spx-pr-42\">[35]</a></sup> and first successful reignition of the second stage.<sup class=\"reference\" id=\"cite_ref-46\"><a href=\"#cite_note-46\">[39]</a></sup> SES-8 was inserted into a <a href=\"/wiki/Geostationary_transfer_orbit\" title=\"Geostationary transfer orbit\">Super-Synchronous Transfer Orbit</a> of 79,341\u00a0km (49,300\u00a0mi) in apogee with an <a href=\"/wiki/Orbital_inclination\" title=\"Orbital inclination\">inclination</a> of 20.55\u00b0 to the <a href=\"/wiki/Equator\" title=\"Equator\">equator</a>.\n</td></tr></tbody></table>\n"
                }
            ]
        },
        {
            "metadata": {},
            "cell_type": "markdown",
            "source": "You should able to see the columns names embedded in the table header elements `<th>` as follows:\n"
        },
        {
            "metadata": {},
            "cell_type": "markdown",
            "source": "```\n<tr>\n<th scope=\"col\">Flight No.\n</th>\n<th scope=\"col\">Date and<br/>time (<a href=\"/wiki/Coordinated_Universal_Time\" title=\"Coordinated Universal Time\">UTC</a>)\n</th>\n<th scope=\"col\"><a href=\"/wiki/List_of_Falcon_9_first-stage_boosters\" title=\"List of Falcon 9 first-stage boosters\">Version,<br/>Booster</a> <sup class=\"reference\" id=\"cite_ref-booster_11-0\"><a href=\"#cite_note-booster-11\">[b]</a></sup>\n</th>\n<th scope=\"col\">Launch site\n</th>\n<th scope=\"col\">Payload<sup class=\"reference\" id=\"cite_ref-Dragon_12-0\"><a href=\"#cite_note-Dragon-12\">[c]</a></sup>\n</th>\n<th scope=\"col\">Payload mass\n</th>\n<th scope=\"col\">Orbit\n</th>\n<th scope=\"col\">Customer\n</th>\n<th scope=\"col\">Launch<br/>outcome\n</th>\n<th scope=\"col\"><a href=\"/wiki/Falcon_9_first-stage_landing_tests\" title=\"Falcon 9 first-stage landing tests\">Booster<br/>landing</a>\n</th></tr>\n```\n"
        },
        {
            "metadata": {},
            "cell_type": "markdown",
            "source": "Next, we just need to iterate through the `<th>` elements and apply the provided `extract_column_from_header()` to extract column name one by one\n"
        },
        {
            "metadata": {},
            "cell_type": "code",
            "source": "column_names = []\n# Apply find_all() function with `th` element on first_launch_table\nfirst_launch_table_th = first_launch_table.find_all('th')\n# Iterate each th element and apply the provided extract_column_from_header()\n# to get a column name\nfor row in first_launch_table_th:\n  colunm_name = extract_column_from_header(row)\n# Append the Non-empty column name (`if name is not None and len(name) > 0`)\n# into a list called column_names\n  if colunm_name is not None and len(colunm_name) > 0:\n    column_names.append(colunm_name)",
            "execution_count": 10,
            "outputs": []
        },
        {
            "metadata": {},
            "cell_type": "markdown",
            "source": "Check the extracted column names\n"
        },
        {
            "metadata": {},
            "cell_type": "code",
            "source": "print(column_names)",
            "execution_count": 11,
            "outputs": [
                {
                    "name": "stdout",
                    "output_type": "stream",
                    "text": "['Flight No.', 'Date and time ( )', 'Launch site', 'Payload', 'Payload mass', 'Orbit', 'Customer', 'Launch outcome']\n"
                }
            ]
        },
        {
            "metadata": {},
            "cell_type": "markdown",
            "source": "## TASK 3: Create a data frame by parsing the launch HTML tables\n"
        },
        {
            "metadata": {},
            "cell_type": "markdown",
            "source": "We will create an empty dictionary with keys from the extracted column names in the previous task. Later, this dictionary will be converted into a Pandas dataframe\n"
        },
        {
            "metadata": {},
            "cell_type": "code",
            "source": "launch_dict= dict.fromkeys(column_names)\n\n# Remove an irrelvant column\ndel launch_dict['Date and time ( )']\n\n# Let's initial the launch_dict with each value to be an empty list\nlaunch_dict['Flight No.'] = []\nlaunch_dict['Launch site'] = []\nlaunch_dict['Payload'] = []\nlaunch_dict['Payload mass'] = []\nlaunch_dict['Orbit'] = []\nlaunch_dict['Customer'] = []\nlaunch_dict['Launch outcome'] = []\n# Added some new columns\nlaunch_dict['Version Booster']=[]\nlaunch_dict['Booster landing']=[]\nlaunch_dict['Date']=[]\nlaunch_dict['Time']=[]",
            "execution_count": 12,
            "outputs": []
        },
        {
            "metadata": {},
            "cell_type": "markdown",
            "source": "Next, we just need to fill up the `launch_dict` with launch records extracted from table rows.\n"
        },
        {
            "metadata": {},
            "cell_type": "markdown",
            "source": "Usually, HTML tables in Wiki pages are likely to contain unexpected annotations and other types of noises, such as reference links `B0004.1[8]`, missing values `N/A [e]`, inconsistent formatting, etc.\n"
        },
        {
            "metadata": {},
            "cell_type": "markdown",
            "source": "To simplify the parsing process, we have provided an incomplete code snippet below to help you to fill up the `launch_dict`. Please complete the following code snippet with TODOs or you can choose to write your own logic to parse all launch tables:\n"
        },
        {
            "metadata": {},
            "cell_type": "code",
            "source": "launch_dict['Customer']\n#launch_dict['Booster landing']",
            "execution_count": 13,
            "outputs": [
                {
                    "data": {
                        "text/plain": "[]"
                    },
                    "execution_count": 13,
                    "metadata": {},
                    "output_type": "execute_result"
                }
            ]
        },
        {
            "metadata": {},
            "cell_type": "code",
            "source": "extracted_row = 0\n#Extract each table \nfor table_number,table in enumerate(soup.find_all('table',\"wikitable plainrowheaders collapsible\")):\n   # get table row \n    for rows in table.find_all(\"tr\"):\n        #check to see if first table heading is as number corresponding to\n        # launch a number \n        if rows.th:\n            if rows.th.string:\n                flight_number=rows.th.string.strip()\n                flag=flight_number.isdigit()\n        else:\n            flag=False\n        #get table element \n        row=rows.find_all('td')\n        #if it is number save cells in a dictonary \n        if flag:\n            extracted_row += 1\n            # Flight Number value\n            # TODO: Append the flight_number into launch_dict with key\n            # `Flight No.`\n            launch_dict['Flight No.'].append(flight_number)\n            print('1 flight_number: ', flight_number)\n            \n            # Date value\n            # TODO: Append the date into launch_dict with key\n            # `Date`\n            datatimelist=date_time(row[0])\n            date = datatimelist[0].strip(',')\n            launch_dict['Date'].append(date)\n            print('2 date: ', date)\n            \n            # Time value\n            # TODO: Append the time into launch_dict with key\n            # `Time`\n            time = datatimelist[1]\n            launch_dict['Time'].append(time)\n            print('3 time: ', time)\n              \n            # Booster version\n            # TODO: Append the bv into launch_dict with key\n            # `Version Booster`\n            bv=booster_version(row[1])\n            if not(bv):\n                bv=row[1].a.string\n            launch_dict['Version Booster'].append(bv)\n            print('4 bv: ', bv)\n            \n            # Launch Site\n            # TODO: Append the bv into launch_dict with key\n            # `Launch Site`\n            launch_site = row[2].a.string\n            launch_dict['Launch site'].append(launch_site)\n            print('5 launch_site: ', launch_site)\n            \n            # Payload\n            # TODO: Append the payload into launch_dict with key\n            # `Payload`\n            payload = row[3].a.string\n            launch_dict['Payload'].append(payload)\n            print('6 payload: ', payload)\n            \n            # Payload Mass\n            # TODO: Append the payload_mass into launch_dict with key\n            # `Payload mass`\n            payload_mass = get_mass(row[4])\n            launch_dict['Payload mass'].append(payload_mass)\n            print('7 payload_mass: ', payload_mass)\n            \n            # Orbit\n            # TODO: Append the orbit into launch_dict with key\n            # `Orbit`\n            orbit = row[5].a.string\n            launch_dict['Orbit'].append(orbit)\n            print('8 orbit: ', orbit)\n            \n            # Customer\n            # TODO: Append the customer into launch_dict with key\n            # `Customer`\n            customer = list(row[6].strings)[0]\n            launch_dict['Customer'].append(customer)\n            print('9 customer: ', customer)\n            \n            # Launch outcome\n            # TODO: Append the launch_outcome into launch_dict with key\n            # `Launch outcome`\n            launch_outcome = list(row[7].strings)[0]\n            launch_dict['Launch outcome'].append(launch_outcome)\n            print('10 launch_outcome: ', launch_outcome)\n            \n            # Booster landing\n            # TODO: Append the launch_outcome into launch_dict with key\n            # `Booster landing`\n            booster_landing = landing_status(row[8])\n            launch_dict['Booster landing'].append(booster_landing)\n            print('11 booster_landing: ', booster_landing)",
            "execution_count": 14,
            "outputs": [
                {
                    "name": "stdout",
                    "output_type": "stream",
                    "text": "1 flight_number:  1\n2 date:  4 June 2010\n3 time:  18:45\n4 bv:  F9 v1.0B0003.1\n5 launch_site:  CCAFS\n6 payload:  Dragon Spacecraft Qualification Unit\n7 payload_mass:  0\n8 orbit:  LEO\n9 customer:  SpaceX\n10 launch_outcome:  Success\n\n11 booster_landing:  Failure\n1 flight_number:  2\n2 date:  8 December 2010\n3 time:  15:43\n4 bv:  F9 v1.0B0004.1\n5 launch_site:  CCAFS\n6 payload:  Dragon\n7 payload_mass:  0\n8 orbit:  LEO\n9 customer:  \n\n10 launch_outcome:  Success\n11 booster_landing:  Failure\n1 flight_number:  3\n2 date:  22 May 2012\n3 time:  07:44\n4 bv:  F9 v1.0B0005.1\n5 launch_site:  CCAFS\n6 payload:  Dragon\n7 payload_mass:  525 kg\n8 orbit:  LEO\n9 customer:  NASA\n10 launch_outcome:  Success\n11 booster_landing:  No attempt\n\n1 flight_number:  4\n2 date:  8 October 2012\n3 time:  00:35\n4 bv:  F9 v1.0B0006.1\n5 launch_site:  CCAFS\n6 payload:  SpaceX CRS-1\n7 payload_mass:  4,700 kg\n8 orbit:  LEO\n9 customer:  NASA\n10 launch_outcome:  Success\n\n11 booster_landing:  No attempt\n1 flight_number:  5\n2 date:  1 March 2013\n3 time:  15:10\n4 bv:  F9 v1.0B0007.1\n5 launch_site:  CCAFS\n6 payload:  SpaceX CRS-2\n7 payload_mass:  4,877 kg\n8 orbit:  LEO\n9 customer:  NASA\n10 launch_outcome:  Success\n\n11 booster_landing:  No attempt\n\n1 flight_number:  6\n2 date:  29 September 2013\n3 time:  16:00\n4 bv:  F9 v1.1B1003\n5 launch_site:  VAFB\n6 payload:  CASSIOPE\n7 payload_mass:  500 kg\n8 orbit:  Polar orbit\n9 customer:  MDA\n10 launch_outcome:  Success\n11 booster_landing:  Uncontrolled\n1 flight_number:  7\n2 date:  3 December 2013\n3 time:  22:41\n4 bv:  F9 v1.1\n5 launch_site:  CCAFS\n6 payload:  SES-8\n7 payload_mass:  3,170 kg\n8 orbit:  GTO\n9 customer:  SES\n10 launch_outcome:  Success\n11 booster_landing:  No attempt\n1 flight_number:  8\n2 date:  6 January 2014\n3 time:  22:06\n4 bv:  F9 v1.1\n5 launch_site:  CCAFS\n6 payload:  Thaicom 6\n7 payload_mass:  3,325 kg\n8 orbit:  GTO\n9 customer:  Thaicom\n10 launch_outcome:  Success\n11 booster_landing:  No attempt\n1 flight_number:  9\n2 date:  18 April 2014\n3 time:  19:25\n4 bv:  F9 v1.1\n5 launch_site:  Cape Canaveral\n6 payload:  SpaceX CRS-3\n7 payload_mass:  2,296 kg\n8 orbit:  LEO\n9 customer:  NASA\n10 launch_outcome:  Success\n\n11 booster_landing:  Controlled\n1 flight_number:  10\n2 date:  14 July 2014\n3 time:  15:15\n4 bv:  F9 v1.1\n5 launch_site:  Cape Canaveral\n6 payload:  Orbcomm-OG2\n7 payload_mass:  1,316 kg\n8 orbit:  LEO\n9 customer:  Orbcomm\n10 launch_outcome:  Success\n11 booster_landing:  Controlled\n1 flight_number:  11\n2 date:  5 August 2014\n3 time:  08:00\n4 bv:  F9 v1.1\n5 launch_site:  Cape Canaveral\n6 payload:  AsiaSat 8\n7 payload_mass:  4,535 kg\n8 orbit:  GTO\n9 customer:  AsiaSat\n10 launch_outcome:  Success\n11 booster_landing:  No attempt\n1 flight_number:  12\n2 date:  7 September 2014\n3 time:  05:00\n4 bv:  F9 v1.1\n5 launch_site:  Cape Canaveral\n6 payload:  AsiaSat 6\n7 payload_mass:  4,428 kg\n8 orbit:  GTO\n9 customer:  AsiaSat\n10 launch_outcome:  Success\n11 booster_landing:  No attempt\n\n1 flight_number:  13\n2 date:  21 September 2014\n3 time:  05:52\n4 bv:  F9 v1.1\n5 launch_site:  Cape Canaveral\n6 payload:  SpaceX CRS-4\n7 payload_mass:  2,216 kg\n8 orbit:  LEO\n9 customer:  NASA\n10 launch_outcome:  Success\n11 booster_landing:  Uncontrolled\n1 flight_number:  14\n2 date:  10 January 2015\n3 time:  09:47\n4 bv:  F9 v1.1\n5 launch_site:  Cape Canaveral\n6 payload:  SpaceX CRS-5\n7 payload_mass:  2,395 kg\n8 orbit:  LEO\n9 customer:  NASA\n10 launch_outcome:  Success\n11 booster_landing:  Failure \n1 flight_number:  15\n2 date:  11 February 2015\n3 time:  23:03\n4 bv:  F9 v1.1\n5 launch_site:  Cape Canaveral\n6 payload:  DSCOVR\n7 payload_mass:  570 kg\n8 orbit:  HEO\n9 customer:  \n\n10 launch_outcome:  Success\n\n11 booster_landing:  Controlled\n1 flight_number:  16\n2 date:  2 March 2015\n3 time:  03:50\n4 bv:  F9 v1.1\n5 launch_site:  Cape Canaveral\n6 payload:  ABS-3A\n7 payload_mass:  4,159 kg\n8 orbit:  GTO\n9 customer:  \n\n10 launch_outcome:  Success\n\n11 booster_landing:  No attempt\n1 flight_number:  17\n2 date:  14 April 2015\n3 time:  20:10\n4 bv:  F9 v1.1\n5 launch_site:  Cape Canaveral\n6 payload:  SpaceX CRS-6\n7 payload_mass:  1,898 kg\n8 orbit:  LEO\n9 customer:  NASA\n10 launch_outcome:  Success\n\n11 booster_landing:  Failure\n1 flight_number:  18\n2 date:  27 April 2015\n3 time:  23:03\n4 bv:  F9 v1.1\n5 launch_site:  Cape Canaveral\n6 payload:  T\u00fcrkmen\u00c4lem 52\u00b0E / MonacoSAT\n7 payload_mass:  4,707 kg\n8 orbit:  GTO\n9 customer:  Turkmenistan National\n10 launch_outcome:  Success\n\n11 booster_landing:  No attempt\n1 flight_number:  19\n2 date:  28 June 2015\n3 time:  14:21\n4 bv:  F9 v1.1\n5 launch_site:  Cape Canaveral\n6 payload:  SpaceX CRS-7\n7 payload_mass:  1,952 kg\n8 orbit:  LEO\n9 customer:  NASA\n10 launch_outcome:  Failure\n11 booster_landing:  Precluded\n1 flight_number:  20\n2 date:  22 December 2015\n3 time:  01:29\n4 bv:  F9 FT\n5 launch_site:  Cape Canaveral\n6 payload:  Orbcomm-OG2\n7 payload_mass:  2,034 kg\n8 orbit:  LEO\n9 customer:  Orbcomm\n10 launch_outcome:  Success\n\n11 booster_landing:  Success\n1 flight_number:  21\n2 date:  17 January 2016\n3 time:  18:42\n4 bv:  F9 v1.1\n5 launch_site:  VAFB\n6 payload:  Jason-3\n7 payload_mass:  553 kg\n8 orbit:  LEO\n9 customer:  \n\n10 launch_outcome:  Success\n\n11 booster_landing:  Failure\n1 flight_number:  22\n2 date:  4 March 2016\n3 time:  23:35\n4 bv:  F9 FT\n5 launch_site:  Cape Canaveral\n6 payload:  SES-9\n7 payload_mass:  5,271 kg\n8 orbit:  GTO\n9 customer:  SES\n10 launch_outcome:  Success\n\n11 booster_landing:  Failure\n1 flight_number:  23\n2 date:  8 April 2016\n3 time:  20:43\n4 bv:  F9 FT\n5 launch_site:  Cape Canaveral\n6 payload:  SpaceX CRS-8\n7 payload_mass:  3,136 kg\n8 orbit:  LEO\n9 customer:  NASA\n10 launch_outcome:  Success\n11 booster_landing:  Success\n1 flight_number:  24\n2 date:  6 May 2016\n3 time:  05:21\n4 bv:  F9 FT\n5 launch_site:  Cape Canaveral\n6 payload:  JCSAT-14\n7 payload_mass:  4,696 kg\n8 orbit:  GTO\n9 customer:  SKY Perfect JSAT Group\n10 launch_outcome:  Success\n\n11 booster_landing:  Success\n1 flight_number:  25\n2 date:  27 May 2016\n3 time:  21:39\n4 bv:  F9 FT\n5 launch_site:  Cape Canaveral\n6 payload:  Thaicom 8\n7 payload_mass:  3,100 kg\n8 orbit:  GTO\n9 customer:  Thaicom\n10 launch_outcome:  Success\n\n11 booster_landing:  Success\n1 flight_number:  26\n2 date:  15 June 2016\n3 time:  14:29\n4 bv:  F9 FT\n5 launch_site:  Cape Canaveral\n6 payload:  ABS-2A\n7 payload_mass:  3,600 kg\n8 orbit:  GTO\n9 customer:  \n\n10 launch_outcome:  Success\n\n11 booster_landing:  Failure\n1 flight_number:  27\n2 date:  18 July 2016\n3 time:  04:45\n4 bv:  F9 FT\n5 launch_site:  Cape Canaveral\n6 payload:  SpaceX CRS-9\n7 payload_mass:  2,257 kg\n8 orbit:  LEO\n9 customer:  NASA\n10 launch_outcome:  Success\n\n11 booster_landing:  Success\n1 flight_number:  28\n2 date:  14 August 2016\n3 time:  05:26\n4 bv:  F9 FT\n5 launch_site:  Cape Canaveral\n6 payload:  JCSAT-16\n7 payload_mass:  4,600 kg\n8 orbit:  GTO\n9 customer:  SKY Perfect JSAT Group\n10 launch_outcome:  Success\n\n11 booster_landing:  Success\n1 flight_number:  29\n2 date:  14 January 2017\n3 time:  17:54\n4 bv:  F9 FT\n5 launch_site:  VAFB\n6 payload:  Iridium NEXT\n7 payload_mass:  9,600 kg\n8 orbit:  Polar\n9 customer:  Iridium Communications\n10 launch_outcome:  Success\n\n11 booster_landing:  Success\n1 flight_number:  30\n2 date:  19 February 2017\n3 time:  14:39\n4 bv:  F9 FT\n5 launch_site:  KSC\n6 payload:  SpaceX CRS-10\n7 payload_mass:  2,490 kg\n8 orbit:  LEO\n9 customer:  NASA\n10 launch_outcome:  Success\n\n11 booster_landing:  Success\n1 flight_number:  31\n2 date:  16 March 2017\n3 time:  06:00\n4 bv:  F9 FT\n5 launch_site:  KSC\n6 payload:  EchoStar 23\n7 payload_mass:  5,600 kg\n8 orbit:  GTO\n9 customer:  EchoStar\n10 launch_outcome:  Success\n\n11 booster_landing:  No attempt\n1 flight_number:  32\n2 date:  30 March 2017\n3 time:  22:27\n4 bv:  F9 FT\u267a\n5 launch_site:  KSC\n6 payload:  SES-10\n7 payload_mass:  5,300 kg\n8 orbit:  GTO\n9 customer:  SES\n10 launch_outcome:  Success\n11 booster_landing:  Success\n1 flight_number:  33\n2 date:  1 May 2017\n3 time:  11:15\n4 bv:  F9 FT\n5 launch_site:  KSC\n6 payload:  NROL-76\n7 payload_mass:  C\n8 orbit:  LEO\n9 customer:  NRO\n10 launch_outcome:  Success\n\n11 booster_landing:  Success\n1 flight_number:  34\n2 date:  15 May 2017\n3 time:  23:21\n4 bv:  F9 FT\n5 launch_site:  KSC\n6 payload:  Inmarsat-5 F4\n7 payload_mass:  6,070 kg\n8 orbit:  GTO\n9 customer:  Inmarsat\n10 launch_outcome:  Success\n\n11 booster_landing:  No attempt\n1 flight_number:  35\n2 date:  3 June 2017\n3 time:  21:07\n4 bv:  F9 FT\n5 launch_site:  KSC\n6 payload:  SpaceX CRS-11\n7 payload_mass:  2,708 kg\n8 orbit:  LEO\n9 customer:  NASA\n10 launch_outcome:  Success\n\n11 booster_landing:  Success\n1 flight_number:  36\n2 date:  23 June 2017\n3 time:  19:10\n4 bv:  F9 FTB1029.2\n5 launch_site:  KSC\n6 payload:  BulgariaSat-1\n7 payload_mass:  3,669 kg\n8 orbit:  GTO\n9 customer:  Bulsatcom\n10 launch_outcome:  Success\n\n11 booster_landing:  Success\n1 flight_number:  37\n2 date:  25 June 2017\n3 time:  20:25\n4 bv:  F9 FT\n5 launch_site:  VAFB\n6 payload:  Iridium NEXT\n7 payload_mass:  9,600 kg\n8 orbit:  LEO\n9 customer:  Iridium Communications\n10 launch_outcome:  Success\n\n11 booster_landing:  Success\n1 flight_number:  38\n2 date:  5 July 2017\n3 time:  23:38\n4 bv:  F9 FT\n5 launch_site:  KSC\n6 payload:  Intelsat 35e\n7 payload_mass:  6,761 kg\n8 orbit:  GTO\n9 customer:  Intelsat\n10 launch_outcome:  Success\n\n11 booster_landing:  No attempt\n1 flight_number:  39\n2 date:  14 August 2017\n3 time:  16:31\n4 bv:  F9 B4\n5 launch_site:  KSC\n6 payload:  SpaceX CRS-12\n7 payload_mass:  3,310 kg\n8 orbit:  LEO\n9 customer:  NASA\n10 launch_outcome:  Success\n\n11 booster_landing:  Success\n1 flight_number:  40\n2 date:  24 August 2017\n3 time:  18:51\n4 bv:  F9 FT\n5 launch_site:  VAFB\n6 payload:  Formosat-5\n7 payload_mass:  475 kg\n8 orbit:  SSO\n9 customer:  NSPO\n10 launch_outcome:  Success\n\n11 booster_landing:  Success\n1 flight_number:  41\n2 date:  7 September 2017\n3 time:  14:00\n4 bv:  F9 B4\n5 launch_site:  KSC\n6 payload:  Boeing X-37B\n7 payload_mass:  4,990 kg\n8 orbit:  LEO\n9 customer:  USAF\n10 launch_outcome:  Success\n\n11 booster_landing:  Success\n1 flight_number:  42\n2 date:  9 October 2017\n3 time:  12:37\n4 bv:  F9 B4\n5 launch_site:  VAFB\n6 payload:  Iridium NEXT\n7 payload_mass:  9,600 kg\n8 orbit:  Polar\n9 customer:  Iridium Communications\n10 launch_outcome:  Success\n\n11 booster_landing:  Success\n1 flight_number:  43\n2 date:  11 October 2017\n3 time:  22:53:00\n4 bv:  F9 FTB1031.2\n5 launch_site:  KSC\n6 payload:  SES-11\n7 payload_mass:  5,200 kg\n8 orbit:  GTO\n9 customer:  \n\n10 launch_outcome:  Success\n\n11 booster_landing:  Success\n1 flight_number:  44\n2 date:  30 October 2017\n3 time:  19:34\n4 bv:  F9 B4\n5 launch_site:  KSC\n6 payload:  Koreasat 5A\n7 payload_mass:  3,500 kg\n8 orbit:  GTO\n9 customer:  KT Corporation\n10 launch_outcome:  Success\n\n11 booster_landing:  Success\n1 flight_number:  45\n2 date:  15 December 2017\n3 time:  15:36\n4 bv:  F9 FTB1035.2\n5 launch_site:  Cape Canaveral\n6 payload:  SpaceX CRS-13\n7 payload_mass:  2,205 kg\n8 orbit:  LEO\n9 customer:  NASA\n10 launch_outcome:  Success\n\n11 booster_landing:  Success\n1 flight_number:  46\n2 date:  23 December 2017\n3 time:  01:27\n4 bv:  F9 FTB1036.2\n5 launch_site:  VAFB\n6 payload:  Iridium NEXT\n7 payload_mass:  9,600 kg\n8 orbit:  Polar\n9 customer:  Iridium Communications\n10 launch_outcome:  Success\n11 booster_landing:  Controlled\n1 flight_number:  47\n2 date:  8 January 2018\n3 time:  01:00\n4 bv:  F9 B4\n5 launch_site:  CCAFS\n6 payload:  Zuma\n7 payload_mass:  C\n8 orbit:  LEO\n9 customer:  Northrop Grumman\n10 launch_outcome:  Success\n11 booster_landing:  Success\n1 flight_number:  48\n2 date:  31 January 2018\n3 time:  21:25\n4 bv:  F9 FTB1032.2\n5 launch_site:  CCAFS\n6 payload:  GovSat-1\n7 payload_mass:  4,230 kg\n8 orbit:  GTO\n9 customer:  SES\n10 launch_outcome:  Success\n11 booster_landing:  Controlled\n1 flight_number:  49\n2 date:  22 February 2018\n3 time:  14:17\n4 bv:  F9 FTB1038.2\n5 launch_site:  VAFB\n6 payload:  Paz\n7 payload_mass:  2,150 kg\n8 orbit:  SSO\n9 customer:  \n\n10 launch_outcome:  Success\n11 booster_landing:  No attempt\n1 flight_number:  50\n2 date:  6 March 2018\n3 time:  05:33\n4 bv:  F9 B4\n5 launch_site:  CCAFS\n6 payload:  Hispasat 30W-6\n7 payload_mass:  6,092 kg\n8 orbit:  GTO\n9 customer:  \n\n10 launch_outcome:  Success\n11 booster_landing:  No attempt\n1 flight_number:  51\n2 date:  30 March 2018\n3 time:  14:14\n4 bv:  F9 B4B1041.2\n5 launch_site:  VAFB\n6 payload:  Iridium NEXT\n7 payload_mass:  9,600 kg\n8 orbit:  Polar\n9 customer:  Iridium Communications\n10 launch_outcome:  Success\n11 booster_landing:  No attempt\n1 flight_number:  52\n2 date:  2 April 2018\n3 time:  20:30\n4 bv:  F9 B4B1039.2\n5 launch_site:  CCAFS\n6 payload:  SpaceX CRS-14\n7 payload_mass:  2,647 kg\n8 orbit:  LEO\n9 customer:  NASA\n10 launch_outcome:  Success\n11 booster_landing:  No attempt\n1 flight_number:  53\n2 date:  18 April 2018\n3 time:  22:51\n4 bv:  F9 B4\n5 launch_site:  CCAFS\n6 payload:  Transiting Exoplanet Survey Satellite\n7 payload_mass:  362 kg\n8 orbit:  HEO\n9 customer:  NASA\n10 launch_outcome:  Success\n11 booster_landing:  Success\n1 flight_number:  54\n2 date:  11 May 2018\n3 time:  20:14\n4 bv:  F9 B5B1046.1\n5 launch_site:  KSC\n6 payload:  Bangabandhu-1\n7 payload_mass:  3,600 kg\n8 orbit:  GTO\n9 customer:  Thales-Alenia\n10 launch_outcome:  Success\n11 booster_landing:  Success\n1 flight_number:  55\n2 date:  22 May 2018\n3 time:  19:47\n4 bv:  F9 B4B1043.2\n5 launch_site:  VAFB\n6 payload:  Iridium NEXT\n7 payload_mass:  6,460 kg\n8 orbit:  Polar\n9 customer:  \n\n10 launch_outcome:  Success\n11 booster_landing:  No attempt\n1 flight_number:  56\n2 date:  4 June 2018\n3 time:  04:45\n4 bv:  F9 B4B1040.2\n5 launch_site:  CCAFS\n6 payload:  SES-12\n7 payload_mass:  5,384 kg\n8 orbit:  GTO\n9 customer:  SES\n10 launch_outcome:  Success\n11 booster_landing:  No attempt\n1 flight_number:  57\n2 date:  29 June 2018\n3 time:  09:42\n4 bv:  F9 B4B1045.2\n5 launch_site:  CCAFS\n6 payload:  SpaceX CRS-15\n7 payload_mass:  2,697 kg\n8 orbit:  LEO\n9 customer:  NASA\n10 launch_outcome:  Success\n11 booster_landing:  No attempt\n1 flight_number:  58\n2 date:  22 July 2018\n3 time:  05:50\n4 bv:  F9 B5\n5 launch_site:  CCAFS\n6 payload:  Telstar 19V\n7 payload_mass:  7,075 kg\n8 orbit:  GTO\n9 customer:  Telesat\n10 launch_outcome:  Success\n11 booster_landing:  Success\n1 flight_number:  59\n2 date:  25 July 2018\n3 time:  11:39\n4 bv:  F9 B5B1048\n5 launch_site:  VAFB\n6 payload:  Iridium NEXT\n7 payload_mass:  9,600 kg\n8 orbit:  Polar\n9 customer:  Iridium Communications\n10 launch_outcome:  Success\n11 booster_landing:  Success\n1 flight_number:  60\n2 date:  7 August 2018\n3 time:  05:18\n4 bv:  F9 B5B1046.2\n5 launch_site:  CCAFS\n6 payload:  Merah Putih\n7 payload_mass:  5,800 kg\n8 orbit:  GTO\n9 customer:  Telkom Indonesia\n10 launch_outcome:  Success\n11 booster_landing:  Success\n1 flight_number:  61\n2 date:  10 September 2018\n3 time:  04:45\n4 bv:  F9 B5\n5 launch_site:  CCAFS\n6 payload:  Telstar 18V\n7 payload_mass:  7,060 kg\n8 orbit:  GTO\n9 customer:  Telesat\n10 launch_outcome:  Success\n11 booster_landing:  Success\n1 flight_number:  62\n2 date:  8 October 2018\n3 time:  02:22\n4 bv:  F9 B5B1048.2\n5 launch_site:  VAFB\n6 payload:  SAOCOM 1A\n7 payload_mass:  3,000 kg\n8 orbit:  SSO\n9 customer:  CONAE\n10 launch_outcome:  Success\n11 booster_landing:  Success\n1 flight_number:  63\n2 date:  15 November 2018\n3 time:  20:46\n4 bv:  F9 B5B1047.2\n5 launch_site:  KSC\n6 payload:  Es'hail 2\n7 payload_mass:  5,300 kg\n8 orbit:  GTO\n9 customer:  Es'hailSat\n10 launch_outcome:  Success\n11 booster_landing:  Success\n1 flight_number:  64\n2 date:  3 December 2018\n3 time:  18:34:05\n4 bv:  F9 B5B1046.3\n5 launch_site:  VAFB\n6 payload:  SSO-A\n7 payload_mass:  ~4,000 kg\n8 orbit:  SSO\n9 customer:  Spaceflight Industries\n10 launch_outcome:  Success\n11 booster_landing:  Success\n1 flight_number:  65\n2 date:  5 December 2018\n3 time:  18:16\n4 bv:  F9 B5\n5 launch_site:  CCAFS\n6 payload:  SpaceX CRS-16\n7 payload_mass:  2,500 kg\n8 orbit:  LEO\n9 customer:  NASA\n10 launch_outcome:  Success\n\n11 booster_landing:  Failure\n1 flight_number:  66\n2 date:  23 December 2018\n3 time:  13:51\n4 bv:  F9 B5\n5 launch_site:  CCAFS\n6 payload:  GPS III\n7 payload_mass:  4,400 kg\n8 orbit:  MEO\n9 customer:  USAF\n10 launch_outcome:  Success\n11 booster_landing:  No attempt\n1 flight_number:  67\n2 date:  11 January 2019\n3 time:  15:31\n4 bv:  F9 B5B1049.2\n5 launch_site:  VAFB\n6 payload:  Iridium NEXT\n7 payload_mass:  9,600 kg\n8 orbit:  Polar\n9 customer:  Iridium Communications\n10 launch_outcome:  Success\n\n11 booster_landing:  Success\n1 flight_number:  68\n2 date:  22 February 2019\n3 time:  01:45\n4 bv:  F9 B5B1048.3\n5 launch_site:  CCAFS\n6 payload:  Nusantara Satu\n7 payload_mass:  4,850 kg\n8 orbit:  GTO\n9 customer:  \n\n10 launch_outcome:  Success\n\n11 booster_landing:  Success\n1 flight_number:  69\n2 date:  2 March 2019\n3 time:  07:49\n4 bv:  F9 B5[268]\n5 launch_site:  KSC\n6 payload:  Crew Dragon Demo-1\n7 payload_mass:  12,055 kg\n8 orbit:  LEO\n9 customer:   \n10 launch_outcome:  Success\n\n11 booster_landing:  Success\n1 flight_number:  70\n2 date:  4 May 2019\n3 time:  06:48\n4 bv:  F9 B5\n5 launch_site:  CCAFS\n6 payload:  SpaceX CRS-17\n7 payload_mass:  2,495 kg\n8 orbit:  LEO\n9 customer:  NASA\n10 launch_outcome:  Success\n\n11 booster_landing:  Success\n1 flight_number:  71\n2 date:  24 May 2019\n3 time:  02:30\n4 bv:  F9 B5B1049.3\n5 launch_site:  CCAFS\n6 payload:  Starlink\n7 payload_mass:  13,620 kg\n8 orbit:  LEO\n9 customer:  SpaceX\n10 launch_outcome:  Success\n\n11 booster_landing:  Success\n1 flight_number:  72\n2 date:  12 June 2019\n3 time:  14:17\n4 bv:  F9 B5B1051.2\n5 launch_site:  VAFB\n6 payload:  RADARSAT Constellation\n7 payload_mass:  4,200 kg\n8 orbit:  SSO\n9 customer:  Canadian Space Agency\n10 launch_outcome:  Success\n\n11 booster_landing:  Success\n1 flight_number:  73\n2 date:  25 July 2019\n3 time:  22:01\n4 bv:  F9 B5B1056.2\n5 launch_site:  CCAFS\n6 payload:  SpaceX CRS-18\n7 payload_mass:  2,268 kg\n8 orbit:  LEO\n9 customer:  NASA\n10 launch_outcome:  Success\n\n11 booster_landing:  Success\n1 flight_number:  74\n2 date:  6 August 2019\n3 time:  23:23\n4 bv:  F9 B5B1047.3\n5 launch_site:  CCAFS\n6 payload:  AMOS-17\n7 payload_mass:  6,500 kg\n8 orbit:  GTO\n9 customer:  Spacecom\n10 launch_outcome:  Success\n\n11 booster_landing:  No attempt\n1 flight_number:  75\n2 date:  11 November 2019\n3 time:  14:56\n4 bv:  F9 B5\n5 launch_site:  CCAFS\n6 payload:  Starlink\n7 payload_mass:  15,600 kg\n8 orbit:  LEO\n9 customer:  SpaceX\n10 launch_outcome:  Success\n\n11 booster_landing:  Success\n1 flight_number:  76\n2 date:  5 December 2019\n3 time:  17:29\n4 bv:  F9 B5\n5 launch_site:  CCAFS\n6 payload:  SpaceX CRS-19\n7 payload_mass:  2,617 kg\n8 orbit:  LEO\n9 customer:  NASA\n10 launch_outcome:  Success\n\n11 booster_landing:  Success\n1 flight_number:  77\n2 date:  17 December 2019\n3 time:  00:10\n4 bv:  F9 B5B1056.3\n5 launch_site:  CCAFS\n6 payload:  JCSat-18\n7 payload_mass:  6,956 kg\n8 orbit:  GTO\n9 customer:  Sky Perfect JSAT\n10 launch_outcome:  Success\n\n11 booster_landing:  Success\n1 flight_number:  78\n2 date:  7 January 2020\n3 time:  02:19:21\n4 bv:  F9 B5\n5 launch_site:  CCAFS\n6 payload:  Starlink\n7 payload_mass:  15,600 kg\n8 orbit:  LEO\n9 customer:  SpaceX\n10 launch_outcome:  Success\n\n11 booster_landing:  Success\n1 flight_number:  79\n2 date:  19 January 2020\n3 time:  15:30\n4 bv:  F9 B5\n5 launch_site:  KSC\n6 payload:  Crew Dragon in-flight abort test\n7 payload_mass:  12,050 kg\n8 orbit:  Sub-orbital\n9 customer:  NASA\n10 launch_outcome:  Success\n\n11 booster_landing:  No attempt\n\n1 flight_number:  80\n2 date:  29 January 2020\n3 time:  14:07\n4 bv:  F9 B5\n5 launch_site:  CCAFS\n6 payload:  Starlink\n7 payload_mass:  15,600 kg\n8 orbit:  LEO\n9 customer:  SpaceX\n10 launch_outcome:  Success\n\n11 booster_landing:  Success\n1 flight_number:  81\n2 date:  17 February 2020\n3 time:  15:05\n4 bv:  F9 B5\n5 launch_site:  CCAFS\n6 payload:  Starlink\n7 payload_mass:  15,600 kg\n8 orbit:  LEO\n9 customer:  SpaceX\n10 launch_outcome:  Success\n\n11 booster_landing:  Failure\n1 flight_number:  82\n2 date:  7 March 2020\n3 time:  04:50\n4 bv:  F9 B5\n5 launch_site:  CCAFS\n6 payload:  SpaceX CRS-20\n7 payload_mass:  1,977 kg\n8 orbit:  LEO\n9 customer:  NASA\n10 launch_outcome:  Success\n\n11 booster_landing:  Success\n1 flight_number:  83\n2 date:  18 March 2020\n3 time:  12:16\n4 bv:  F9 B5\n5 launch_site:  KSC\n6 payload:  Starlink\n7 payload_mass:  15,600 kg\n8 orbit:  LEO\n9 customer:  SpaceX\n10 launch_outcome:  Success\n\n11 booster_landing:  Failure\n1 flight_number:  84\n2 date:  22 April 2020\n3 time:  19:30\n4 bv:  F9 B5\n5 launch_site:  KSC\n6 payload:  Starlink\n7 payload_mass:  15,600 kg\n8 orbit:  LEO\n9 customer:  SpaceX\n10 launch_outcome:  Success\n\n11 booster_landing:  Success\n1 flight_number:  85\n2 date:  30 May 2020\n3 time:  19:22\n4 bv:  F9 B5\n5 launch_site:  KSC\n6 payload:  Crew Dragon Demo-2\n7 payload_mass:  12,530 kg\n8 orbit:  LEO\n9 customer:  NASA\n10 launch_outcome:  Success\n\n11 booster_landing:  Success\n1 flight_number:  86\n2 date:  4 June 2020\n3 time:  01:25\n4 bv:  F9 B5\n5 launch_site:  CCAFS\n6 payload:  Starlink\n7 payload_mass:  15,600 kg\n8 orbit:  LEO\n9 customer:  SpaceX\n10 launch_outcome:  Success\n\n11 booster_landing:  Success\n1 flight_number:  87\n2 date:  13 June 2020\n3 time:  09:21\n4 bv:  F9 B5\n5 launch_site:  CCAFS\n6 payload:  Starlink\n7 payload_mass:  15,410 kg\n8 orbit:  LEO\n9 customer:  SpaceX\n10 launch_outcome:  Success\n\n11 booster_landing:  Success\n1 flight_number:  88\n2 date:  30 June 2020\n3 time:  20:10:46\n4 bv:  F9 B5\n5 launch_site:  CCAFS\n6 payload:  GPS III\n7 payload_mass:  4,311 kg\n8 orbit:  MEO\n9 customer:  U.S. Space Force\n10 launch_outcome:  Success\n\n11 booster_landing:  Success\n1 flight_number:  89\n2 date:  20 July 2020\n3 time:  21:30\n4 bv:  F9 B5B1058.2\n5 launch_site:  CCAFS\n6 payload:  ANASIS-II\n7 payload_mass:  5,000\u20136,000 kg\n8 orbit:  GTO\n9 customer:  Republic of Korea Army\n10 launch_outcome:  Success\n\n11 booster_landing:  Success\n1 flight_number:  90\n2 date:  7 August 2020\n3 time:  05:12\n4 bv:  F9 B5\n5 launch_site:  KSC\n6 payload:  Starlink\n7 payload_mass:  14,932 kg\n8 orbit:  LEO\n9 customer:  SpaceX\n10 launch_outcome:  Success\n\n11 booster_landing:  Success\n1 flight_number:  91\n2 date:  18 August 2020\n3 time:  14:31\n4 bv:  F9 B5B1049.6\n5 launch_site:  CCAFS\n6 payload:  Starlink\n7 payload_mass:  ~15,440 kg\n8 orbit:  LEO\n9 customer:  SpaceX\n10 launch_outcome:  Success\n\n11 booster_landing:  Success\n1 flight_number:  92\n2 date:  30 August 2020\n3 time:  23:18\n4 bv:  F9 B5\n5 launch_site:  CCAFS\n6 payload:  SAOCOM 1B\n7 payload_mass:  3,130 kg\n8 orbit:  SSO\n9 customer:  CONAE\n10 launch_outcome:  Success\n\n11 booster_landing:  Success\n1 flight_number:  93\n2 date:  3 September 2020\n3 time:  12:46:14\n4 bv:  F9 B5B1060.2\n5 launch_site:  KSC\n6 payload:  Starlink\n7 payload_mass:  15,600 kg\n8 orbit:  LEO\n9 customer:  SpaceX\n10 launch_outcome:  Success\n\n11 booster_landing:  Success\n1 flight_number:  94\n2 date:  6 October 2020\n3 time:  11:29:34\n4 bv:  F9 B5B1058.3\n5 launch_site:  KSC\n6 payload:  Starlink\n7 payload_mass:  15,600 kg\n8 orbit:  LEO\n9 customer:  SpaceX\n10 launch_outcome:  Success\n\n11 booster_landing:  Success\n1 flight_number:  95\n2 date:  18 October 2020\n3 time:  12:25:57\n4 bv:  F9 B5B1051.6\n5 launch_site:  KSC\n6 payload:  Starlink\n7 payload_mass:  15,600 kg\n8 orbit:  LEO\n9 customer:  SpaceX\n10 launch_outcome:  Success\n\n11 booster_landing:  Success\n1 flight_number:  96\n2 date:  24 October 2020\n3 time:  15:31:34\n4 bv:  F9 B5\n5 launch_site:  CCAFS\n6 payload:  Starlink\n7 payload_mass:  15,600 kg\n8 orbit:  LEO\n9 customer:  SpaceX\n10 launch_outcome:  Success\n\n11 booster_landing:  Success\n1 flight_number:  97\n2 date:  5 November 2020\n3 time:  23:24:23\n4 bv:  F9 B5\n5 launch_site:  CCAFS\n6 payload:  GPS III\n7 payload_mass:  4,311 kg\n8 orbit:  MEO\n9 customer:  USSF\n10 launch_outcome:  Success\n\n11 booster_landing:  Success\n1 flight_number:  98\n2 date:  16 November 2020\n3 time:  00:27\n4 bv:  F9 B5\n5 launch_site:  KSC\n6 payload:  Crew-1\n7 payload_mass:  ~12,500 kg\n8 orbit:  LEO\n9 customer:  NASA\n10 launch_outcome:  Success\n\n11 booster_landing:  Success\n1 flight_number:  99\n2 date:  21 November 2020\n3 time:  17:17:08\n4 bv:  F9 B5\n5 launch_site:  VAFB\n6 payload:  Sentinel-6 Michael Freilich (Jason-CS A)\n7 payload_mass:  1,192 kg\n8 orbit:  LEO\n9 customer:  NASA\n10 launch_outcome:  Success\n\n11 booster_landing:  Success\n1 flight_number:  100\n2 date:  25 November 2020\n3 time:  02:13\n4 bv:  F9 B5 \u267a\n5 launch_site:  CCAFS\n6 payload:  Starlink\n7 payload_mass:  15,600 kg\n8 orbit:  LEO\n9 customer:  SpaceX\n10 launch_outcome:  Success\n\n11 booster_landing:  Success\n1 flight_number:  101\n2 date:  6 December 2020\n3 time:  16:17:08\n4 bv:  F9 B5 \u267a\n5 launch_site:  KSC\n6 payload:  SpaceX CRS-21\n7 payload_mass:  2,972 kg\n8 orbit:  LEO\n9 customer:  NASA\n10 launch_outcome:  Success\n\n11 booster_landing:  Success\n1 flight_number:  102\n2 date:  13 December 2020\n3 time:  17:30:00\n4 bv:  F9 B5 \u267a\n5 launch_site:  CCSFS\n6 payload:  SXM-7\n7 payload_mass:  7,000 kg\n8 orbit:  GTO\n9 customer:  Sirius XM\n10 launch_outcome:  Success\n\n11 booster_landing:  Success\n1 flight_number:  103\n2 date:  19 December 2020\n3 time:  14:00:00\n4 bv:  F9 B5 \u267a\n5 launch_site:  KSC\n6 payload:  NROL-108\n7 payload_mass:  C\n8 orbit:  LEO\n9 customer:  NRO\n10 launch_outcome:  Success\n\n11 booster_landing:  Success\n1 flight_number:  104\n2 date:  8 January 2021\n3 time:  02:15\n4 bv:  F9 B5\n5 launch_site:  CCSFS\n6 payload:  T\u00fcrksat 5A\n7 payload_mass:  3,500 kg\n8 orbit:  GTO\n9 customer:  T\u00fcrksat\n10 launch_outcome:  Success\n\n11 booster_landing:  Success\n1 flight_number:  105\n2 date:  20 January 2021\n3 time:  13:02\n4 bv:  F9 B5B1051.8\n5 launch_site:  KSC\n6 payload:  Starlink\n7 payload_mass:  15,600 kg\n8 orbit:  LEO\n9 customer:  SpaceX\n10 launch_outcome:  Success\n\n11 booster_landing:  Success\n1 flight_number:  106\n2 date:  24 January 2021\n3 time:  15:00\n4 bv:  F9 B5B1058.5\n5 launch_site:  CCSFS\n6 payload:  Transporter-1\n7 payload_mass:  ~5,000 kg\n8 orbit:  SSO\n9 customer:  Various\n\n10 launch_outcome:  Success\n\n11 booster_landing:  Success\n1 flight_number:  107\n2 date:  4 February 2021\n3 time:  06:19\n4 bv:  F9 B5 \u267a\n5 launch_site:  CCSFS\n6 payload:  Starlink\n7 payload_mass:  15,600 kg\n8 orbit:  LEO\n9 customer:  SpaceX\n10 launch_outcome:  Success\n\n11 booster_landing:  Success\n1 flight_number:  108\n2 date:  16 February 2021\n3 time:  03:59:37\n4 bv:  F9 B5 \u267a\n5 launch_site:  CCSFS\n6 payload:  Starlink\n7 payload_mass:  15,600 kg\n8 orbit:  LEO\n9 customer:  SpaceX\n10 launch_outcome:  Success\n\n11 booster_landing:  Failure\n1 flight_number:  109\n2 date:  4 March 2021\n3 time:  08:24\n4 bv:  F9 B5 \u267a\n5 launch_site:  KSC\n6 payload:  Starlink\n7 payload_mass:  15,600 kg\n8 orbit:  LEO\n9 customer:  SpaceX\n10 launch_outcome:  Success\n\n11 booster_landing:  Success\n1 flight_number:  110\n2 date:  11 March 2021\n3 time:  08:13:29\n4 bv:  F9 B5 \u267a\n5 launch_site:  CCSFS\n6 payload:  Starlink\n7 payload_mass:  15,600 kg\n8 orbit:  LEO\n9 customer:  SpaceX\n10 launch_outcome:  Success\n\n11 booster_landing:  Success\n1 flight_number:  111\n2 date:  14 March 2021\n3 time:  10:01\n4 bv:  F9 B5 \u267a\n5 launch_site:  KSC\n6 payload:  Starlink\n7 payload_mass:  15,600 kg\n8 orbit:  LEO\n9 customer:  SpaceX\n10 launch_outcome:  Success\n\n11 booster_landing:  Success\n1 flight_number:  112\n2 date:  24 March 2021\n3 time:  08:28\n4 bv:  F9 B5B1060.6\n5 launch_site:  CCSFS\n6 payload:  Starlink\n7 payload_mass:  15,600 kg\n8 orbit:  LEO\n9 customer:  SpaceX\n10 launch_outcome:  Success\n\n11 booster_landing:  Success\n1 flight_number:  113\n2 date:  7 April 2021\n3 time:  16:34\n4 bv:  F9 B5 \u267a\n5 launch_site:  CCSFS\n6 payload:  Starlink\n7 payload_mass:  15,600 kg\n8 orbit:  LEO\n9 customer:  SpaceX\n10 launch_outcome:  Success\n\n11 booster_landing:  Success\n1 flight_number:  114\n2 date:  23 April 2021\n3 time:  9:49\n4 bv:  F9 B5B1061.2\n5 launch_site:  KSC\n6 payload:  Crew-2\n7 payload_mass:  ~13,000 kg\n8 orbit:  LEO\n9 customer:  NASA\n10 launch_outcome:  Success\n\n11 booster_landing:  Success\n1 flight_number:  115\n2 date:  29 April 2021\n3 time:  03:44\n4 bv:  F9 B5B1060.7\n5 launch_site:  CCSFS\n6 payload:  Starlink\n7 payload_mass:  15,600 kg\n8 orbit:  LEO\n9 customer:  SpaceX\n10 launch_outcome:  Success\n\n11 booster_landing:  Success\n1 flight_number:  116\n2 date:  4 May 2021\n3 time:  19:01\n4 bv:  F9 B5B1049.9\n5 launch_site:  KSC\n6 payload:  Starlink\n7 payload_mass:  15,600 kg\n8 orbit:  LEO\n9 customer:  SpaceX\n10 launch_outcome:  Success\n\n11 booster_landing:  Success\n1 flight_number:  117\n2 date:  9 May 2021\n3 time:  06:42\n4 bv:  F9 B5B1051.10\n5 launch_site:  CCSFS\n6 payload:  Starlink\n7 payload_mass:  15,600 kg\n8 orbit:  LEO\n9 customer:  SpaceX\n10 launch_outcome:  Success\n\n11 booster_landing:  Success\n1 flight_number:  118\n2 date:  15 May 2021\n3 time:  22:56\n4 bv:  F9 B5B1058.8\n5 launch_site:  KSC\n6 payload:  Starlink\n7 payload_mass:  ~14,000 kg\n8 orbit:  LEO\n9 customer:  SpaceX\n10 launch_outcome:  Success\n\n11 booster_landing:  Success\n1 flight_number:  119\n2 date:  26 May 2021\n3 time:  18:59\n4 bv:  F9 B5B1063.2\n5 launch_site:  CCSFS\n6 payload:  Starlink\n7 payload_mass:  15,600 kg\n8 orbit:  LEO\n9 customer:  SpaceX\n10 launch_outcome:  Success\n\n11 booster_landing:  Success\n1 flight_number:  120\n2 date:  3 June 2021\n3 time:  17:29\n4 bv:  F9 B5B1067.1\n5 launch_site:  KSC\n6 payload:  SpaceX CRS-22\n7 payload_mass:  3,328 kg\n8 orbit:  LEO\n9 customer:  NASA\n10 launch_outcome:  Success\n\n11 booster_landing:  Success\n1 flight_number:  121\n2 date:  6 June 2021\n3 time:  04:26\n4 bv:  F9 B5\n5 launch_site:  CCSFS\n6 payload:  SXM-8\n7 payload_mass:  7,000 kg\n8 orbit:  GTO\n9 customer:  Sirius XM\n10 launch_outcome:  Success\n\n11 booster_landing:  Success\n"
                }
            ]
        },
        {
            "metadata": {},
            "cell_type": "markdown",
            "source": "After you have fill in the parsed launch record values into `launch_dict`, you can create a dataframe from it.\n"
        },
        {
            "metadata": {},
            "cell_type": "code",
            "source": "df=pd.DataFrame(launch_dict)",
            "execution_count": 15,
            "outputs": []
        },
        {
            "metadata": {},
            "cell_type": "markdown",
            "source": "We can now export it to a <b>CSV</b> for the next section, but to make the answers consistent and in case you have difficulties finishing this lab.\n\nFollowing labs will be using a provided dataset to make each lab independent.\n"
        },
        {
            "metadata": {},
            "cell_type": "markdown",
            "source": "<code>df.to_csv('spacex_web_scraped.csv', index=False)</code>\n"
        },
        {
            "metadata": {},
            "cell_type": "code",
            "source": "df.to_csv('space_web_scraped.csv', index=False)",
            "execution_count": 16,
            "outputs": []
        },
        {
            "metadata": {},
            "cell_type": "markdown",
            "source": "## Authors\n"
        },
        {
            "metadata": {},
            "cell_type": "markdown",
            "source": "<a href=\"https://www.linkedin.com/in/yan-luo-96288783/?utm_medium=Exinfluencer&utm_source=Exinfluencer&utm_content=000026UJ&utm_term=10006555&utm_id=NA-SkillsNetwork-Channel-SkillsNetworkCoursesIBMDS0321ENSkillsNetwork26802033-2022-01-01\">Yan Luo</a>\n"
        },
        {
            "metadata": {},
            "cell_type": "markdown",
            "source": "<a href=\"https://www.linkedin.com/in/nayefaboutayoun/?utm_medium=Exinfluencer&utm_source=Exinfluencer&utm_content=000026UJ&utm_term=10006555&utm_id=NA-SkillsNetwork-Channel-SkillsNetworkCoursesIBMDS0321ENSkillsNetwork26802033-2022-01-01\">Nayef Abou Tayoun</a>\n"
        },
        {
            "metadata": {},
            "cell_type": "markdown",
            "source": "## Change Log\n"
        },
        {
            "metadata": {},
            "cell_type": "markdown",
            "source": "| Date (YYYY-MM-DD) | Version | Changed By | Change Description          |\n| ----------------- | ------- | ---------- | --------------------------- |\n| 2021-06-09        | 1.0     | Yan Luo    | Tasks updates               |\n| 2020-11-10        | 1.0     | Nayef      | Created the initial version |\n"
        },
        {
            "metadata": {},
            "cell_type": "markdown",
            "source": "Copyright \u00a9 2021 IBM Corporation. All rights reserved.\n"
        }
    ],
    "metadata": {
        "kernelspec": {
            "name": "python3",
            "display_name": "Python 3.9",
            "language": "python"
        },
        "language_info": {
            "name": "python",
            "version": "3.9.13",
            "mimetype": "text/x-python",
            "codemirror_mode": {
                "name": "ipython",
                "version": 3
            },
            "pygments_lexer": "ipython3",
            "nbconvert_exporter": "python",
            "file_extension": ".py"
        },
        "vscode": {
            "interpreter": {
                "hash": "8c94b101bef2d278831e7ec00ee29dd730a1e6285a5062109079357a7d28d2c0"
            }
        }
    },
    "nbformat": 4,
    "nbformat_minor": 4
}