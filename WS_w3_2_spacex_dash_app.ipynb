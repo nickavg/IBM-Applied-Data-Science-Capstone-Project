{
    "cells": [
        {
            "metadata": {
                "id": "3n3ltmfnrqpi",
                "outputId": "a2d4f52a-2fb7-4668-f5f0-fe862aab8eb0",
                "papermill": {
                    "duration": 1.489571,
                    "end_time": "2020-09-19T06:26:57.168979",
                    "exception": false,
                    "start_time": "2020-09-19T06:26:55.679408",
                    "status": "completed"
                },
                "tags": []
            },
            "cell_type": "markdown",
            "source": "<p style=\"text-align:center\">\n    <a href=\"https://skills.network/?utm_medium=Exinfluencer&utm_source=Exinfluencer&utm_content=000026UJ&utm_term=10006555&utm_id=NA-SkillsNetwork-Channel-SkillsNetworkCoursesIBMDS0321ENSkillsNetwork26802033-2022-01-01\" target=\"_blank\">\n    <img src=\"https://cf-courses-data.s3.us.cloud-object-storage.appdomain.cloud/assets/logos/SN_web_lightmode.png\" width=\"200\" alt=\"Skills Network Logo\"  />\n    </a>\n</p>\n"
        },
        {
            "metadata": {},
            "cell_type": "markdown",
            "source": "## Dashboard Application with Plotly Dash"
        },
        {
            "metadata": {},
            "cell_type": "markdown",
            "source": "#### TASK 1: Add a Launch Site Drop-down Input Component"
        },
        {
            "metadata": {},
            "cell_type": "markdown",
            "source": "            dcc.Dropdown(id='site-dropdown', options=[\n                    {'label': 'All Sites', 'value': 'ALL'},\n                    {'label': L_Sites_list[0], 'value': L_Sites_list[0]},\n                    {'label': L_Sites_list[1], 'value': L_Sites_list[1]},\n                    {'label': L_Sites_list[2], 'value': L_Sites_list[2]},\n                    {'label': L_Sites_list[3], 'value': L_Sites_list[3]}],\n                value='ALL',\n                placeholder=\"Select a Launch Site here\",\n                searchable=True\n                ),"
        },
        {
            "metadata": {},
            "cell_type": "markdown",
            "source": "#### TASK 2: Add a callback function to render success-pie-chart based on selected site dropdown"
        },
        {
            "metadata": {},
            "cell_type": "markdown",
            "source": "    @app.callback(Output(component_id='success-pie-chart', component_property='figure'),\n                Input(component_id='site-dropdown', component_property='value'))\n    def get_pie_chart(entered_site):\n        filtered_df = spacex_df[spacex_df['Launch Site']==entered_site]\n        if entered_site == 'ALL':\n            fig = px.pie(spacex_df, values='class', \n            names='Launch Site', \n            title='Total Success Launches by Site')\n            return fig\n        else:\n            # return the outcomes piechart for a selected site\n            fig = px.pie(filtered_df, names='class', \n            title=('Total Success Launches for site %s' % entered_site))\n            return fig"
        },
        {
            "metadata": {},
            "cell_type": "markdown",
            "source": "#### TASK 3: Add a Range Slider to Select Payload"
        },
        {
            "metadata": {},
            "cell_type": "markdown",
            "source": "    html.Div(dcc.RangeSlider(id='payload-slider',\n      min=0, max=10000, step=1000,\n      marks={0: '0', 2000: '2,000', 4000: '4,000', 6000: '6,000',\n      8000: '8,000', 10000: '10,000'},\n      value=[min_payload, max_payload])"
        },
        {
            "metadata": {},
            "cell_type": "markdown",
            "source": "#### TASK 4: Add a callback function to render the success-payload-scatter-chart scatter plot"
        },
        {
            "metadata": {},
            "cell_type": "markdown",
            "source": "    @app.callback(Output(component_id='success-payload-scatter-chart', component_property='figure'),\n        [Input(component_id='site-dropdown', component_property='value'),\n        Input(component_id='payload-slider', component_property='value')])\n    def get_scatter_chart(entered_site,value):\n        spacex_pl_df = spacex_df[spacex_df['Payload Mass (kg)'].between(value[0], value[1], inclusive=True)]\n        filtered_ls_df = spacex_df[spacex_df['Launch Site']==entered_site]\n        iltered_pm_df = filtered_ls_df[filtered_ls_df['Payload Mass (kg)'].between(value[0], value[1], inclusive=True)]\n        #count_class1 = filtered_pm_df['class'].sum()\n        #count_class2 = filtered_ls_df['class'].sum()\n        if entered_site == 'ALL':\n            fig = px.scatter(spacex_pl_df, x='Payload Mass (kg)', \n            y='class', color='Booster Version Category',\n            title='Correlation between Payload and Success for all Sites')\n            return fig\n        else:\n            # return the outcomes piechart for a selected site\n            fig = px.scatter(filtered_pm_df, x='Payload Mass (kg)',\n            y='class', color='Booster Version Category',\n            title=('Payload and Booster versions for site %s' % entered_site))\n            return fig"
        },
        {
            "metadata": {},
            "cell_type": "markdown",
            "source": "#### Finding Insights Visually"
        },
        {
            "metadata": {},
            "cell_type": "markdown",
            "source": "###### Which site has the largest successful launches?\n###### Which site has the highest launch success rate?\n###### Which payload range(s) has the highest launch success rate?\n###### Which payload range(s) has the lowest launch success rate?\n###### Which F9 Booster version (v1.0, v1.1, FT, B4, B5, etc.) has the highest launch success rate?"
        },
        {
            "metadata": {},
            "cell_type": "markdown",
            "source": "### The Completed Application"
        },
        {
            "metadata": {},
            "cell_type": "code",
            "source": "!pip3 install pandas dash\n!pip3 install wget",
            "execution_count": 1,
            "outputs": [
                {
                    "output_type": "stream",
                    "text": "Requirement already satisfied: pandas in /opt/conda/envs/Python-3.9/lib/python3.9/site-packages (1.3.4)\nCollecting dash\n  Downloading dash-2.7.0-py3-none-any.whl (9.9 MB)\n\u001b[K     |\u2588\u2588\u2588\u2588\u2588\u2588\u2588\u2588\u2588\u2588\u2588\u2588\u2588\u2588\u2588\u2588\u2588\u2588\u2588\u2588\u2588\u2588\u2588\u2588\u2588\u2588\u2588\u2588\u2588\u2588\u2588\u2588| 9.9 MB 14.7 MB/s eta 0:00:01\n\u001b[?25hRequirement already satisfied: python-dateutil>=2.7.3 in /opt/conda/envs/Python-3.9/lib/python3.9/site-packages (from pandas) (2.8.2)\nRequirement already satisfied: pytz>=2017.3 in /opt/conda/envs/Python-3.9/lib/python3.9/site-packages (from pandas) (2021.3)\nRequirement already satisfied: numpy>=1.17.3 in /opt/conda/envs/Python-3.9/lib/python3.9/site-packages (from pandas) (1.20.3)\nCollecting dash-table==5.0.0\n  Downloading dash_table-5.0.0-py3-none-any.whl (3.9 kB)\nCollecting dash-core-components==2.0.0\n  Downloading dash_core_components-2.0.0-py3-none-any.whl (3.8 kB)\nRequirement already satisfied: plotly>=5.0.0 in /opt/conda/envs/Python-3.9/lib/python3.9/site-packages (from dash) (5.1.0)\nCollecting Flask>=1.0.4\n  Downloading Flask-2.2.2-py3-none-any.whl (101 kB)\n\u001b[K     |\u2588\u2588\u2588\u2588\u2588\u2588\u2588\u2588\u2588\u2588\u2588\u2588\u2588\u2588\u2588\u2588\u2588\u2588\u2588\u2588\u2588\u2588\u2588\u2588\u2588\u2588\u2588\u2588\u2588\u2588\u2588\u2588| 101 kB 29.8 MB/s ta 0:00:01\n\u001b[?25hCollecting dash-html-components==2.0.0\n  Downloading dash_html_components-2.0.0-py3-none-any.whl (4.1 kB)\nRequirement already satisfied: importlib-metadata>=3.6.0 in /opt/conda/envs/Python-3.9/lib/python3.9/site-packages (from Flask>=1.0.4->dash) (4.8.2)\nRequirement already satisfied: click>=8.0 in /opt/conda/envs/Python-3.9/lib/python3.9/site-packages (from Flask>=1.0.4->dash) (8.0.4)\nCollecting Werkzeug>=2.2.2\n  Downloading Werkzeug-2.2.2-py3-none-any.whl (232 kB)\n\u001b[K     |\u2588\u2588\u2588\u2588\u2588\u2588\u2588\u2588\u2588\u2588\u2588\u2588\u2588\u2588\u2588\u2588\u2588\u2588\u2588\u2588\u2588\u2588\u2588\u2588\u2588\u2588\u2588\u2588\u2588\u2588\u2588\u2588| 232 kB 69.8 MB/s eta 0:00:01\n\u001b[?25hCollecting itsdangerous>=2.0\n  Downloading itsdangerous-2.1.2-py3-none-any.whl (15 kB)\nRequirement already satisfied: Jinja2>=3.0 in /opt/conda/envs/Python-3.9/lib/python3.9/site-packages (from Flask>=1.0.4->dash) (3.0.2)\nRequirement already satisfied: zipp>=0.5 in /opt/conda/envs/Python-3.9/lib/python3.9/site-packages (from importlib-metadata>=3.6.0->Flask>=1.0.4->dash) (3.6.0)\nRequirement already satisfied: MarkupSafe>=2.0 in /opt/conda/envs/Python-3.9/lib/python3.9/site-packages (from Jinja2>=3.0->Flask>=1.0.4->dash) (2.0.1)\nRequirement already satisfied: tenacity>=6.2.0 in /opt/conda/envs/Python-3.9/lib/python3.9/site-packages (from plotly>=5.0.0->dash) (8.0.1)\nRequirement already satisfied: six in /opt/conda/envs/Python-3.9/lib/python3.9/site-packages (from plotly>=5.0.0->dash) (1.15.0)\nCollecting MarkupSafe>=2.0\n  Downloading MarkupSafe-2.1.1-cp39-cp39-manylinux_2_17_x86_64.manylinux2014_x86_64.whl (25 kB)\nInstalling collected packages: MarkupSafe, Werkzeug, itsdangerous, Flask, dash-table, dash-html-components, dash-core-components, dash\n  Attempting uninstall: MarkupSafe\n    Found existing installation: MarkupSafe 2.0.1\n    Uninstalling MarkupSafe-2.0.1:\n      Successfully uninstalled MarkupSafe-2.0.1\n  Attempting uninstall: Werkzeug\n    Found existing installation: Werkzeug 2.0.2\n    Uninstalling Werkzeug-2.0.2:\n      Successfully uninstalled Werkzeug-2.0.2\nSuccessfully installed Flask-2.2.2 MarkupSafe-2.1.1 Werkzeug-2.2.2 dash-2.7.0 dash-core-components-2.0.0 dash-html-components-2.0.0 dash-table-5.0.0 itsdangerous-2.1.2\nCollecting wget\n  Downloading wget-3.2.zip (10 kB)\nBuilding wheels for collected packages: wget\n  Building wheel for wget (setup.py) ... \u001b[?25ldone\n\u001b[?25h  Created wheel for wget: filename=wget-3.2-py3-none-any.whl size=9672 sha256=ebd9c2ee4323c5f2487b7ede19de7d1103573cc2a374e72f1a98f79ac86f304b\n  Stored in directory: /tmp/wsuser/.cache/pip/wheels/04/5f/3e/46cc37c5d698415694d83f607f833f83f0149e49b3af9d0f38\nSuccessfully built wget\nInstalling collected packages: wget\nSuccessfully installed wget-3.2\n",
                    "name": "stdout"
                }
            ]
        },
        {
            "metadata": {},
            "cell_type": "code",
            "source": "import pandas as pd\nimport dash\nimport wget\nfrom dash import html, dcc, Input, Output\nimport plotly.express as px\nimport warnings\nwarnings.simplefilter(action='ignore', category=FutureWarning)\nspacex_df_file = wget.download(\"https://cf-courses-data.s3.us.cloud-object-storage.appdomain.cloud/IBM-DS0321EN-SkillsNetwork/datasets/spacex_launch_dash.csv\")\nspacex_df = pd.read_csv(spacex_df_file)\nL_Sites_list=spacex_df['Launch Site'].unique().tolist()\nClass_list=spacex_df['class'].unique().tolist()\nmax_payload = spacex_df['Payload Mass (kg)'].max()\nmin_payload = spacex_df['Payload Mass (kg)'].min()\nspacex_df = spacex_df[['Launch Site', 'class', 'Payload Mass (kg)', 'Booster Version Category']]\nspacex_df_0 = spacex_df[spacex_df['Launch Site']==L_Sites_list[0]]\nspacex_df_1 = spacex_df[spacex_df['Launch Site']==L_Sites_list[1]]\nspacex_df_2 = spacex_df[spacex_df['Launch Site']==L_Sites_list[2]]\nspacex_df_3 = spacex_df[spacex_df['Launch Site']==L_Sites_list[3]]\n# Create a dash application\napp = dash.Dash(__name__)\n\n# Create an app layout\napp.layout = html.Div(children=[html.H1('SpaceX Launch Records Dashboard',\n                                        style={'textAlign': 'center', 'color': '#503D36',\n                                               'font-size': 40}),\n            dcc.Dropdown(id='site-dropdown', options=[\n                    {'label': 'All Sites', 'value': 'ALL'},\n                    {'label': L_Sites_list[0], 'value': L_Sites_list[0]},\n                    {'label': L_Sites_list[1], 'value': L_Sites_list[1]},\n                    {'label': L_Sites_list[2], 'value': L_Sites_list[2]},\n                    {'label': L_Sites_list[3], 'value': L_Sites_list[3]}],\n                value='ALL',\n                placeholder=\"Select a Launch Site here\",\n                searchable=True\n                ),\n            html.Br(),\n\n                                # TASK 2: Add a pie chart to show the total successful launches count for all sites\n                                # If a specific launch site was selected, show the Success vs. Failed counts for the site\n            html.Div(dcc.Graph(id='success-pie-chart')),\n            html.Br(),\n            html.P(\"Payload range (Kg):\"),\n                                # TASK 3: Add a slider to select payload range\n                                #dcc.RangeSlider(id='payload-slider',...)\n            html.Div(dcc.RangeSlider(id='payload-slider',\n                min=0, max=10000, step=1000, marks={0: '0', 2000: '2,000', 4000: '4,000', 6000: '6,000', 8000: '8,000', 10000: '10,000'}, value=[min_payload, max_payload])),\n                                # TASK 4: Add a scatter chart to show the correlation between payload and launch success\n            html.Div(dcc.Graph(id='success-payload-scatter-chart'))])\n# TASK 2:\n# Add a callback function for `site-dropdown` as input, `success-pie-chart` as output\n# Function decorator to specify function input and output\n# CALLBACK 1  CALLBACK 1  CALLBACK 1  CALLBACK 1  CALLBACK 1  CALLBACK 1  CALLBACK 1 \n@app.callback(Output(component_id='success-pie-chart', component_property='figure'),\n              Input(component_id='site-dropdown', component_property='value'))\ndef get_pie_chart(entered_site):\n    filtered_df = spacex_df[spacex_df['Launch Site']==entered_site]\n    if entered_site == 'ALL':\n        fig = px.pie(spacex_df, values='class', \n        names='Launch Site', \n        title='Total Success Launches by Site')\n        return fig\n    else:\n        # return the outcomes piechart for a selected site\n        fig = px.pie(filtered_df, names='class', \n        title=('Total Success Launches for site %s' % entered_site))\n        return fig\n\n# TASK 4:\n# Add a callback function for `site-dropdown` and `payload-slider` as inputs,\n# `success-payload-scatter-chart` as output\n# CALLBACK 2  CALLBACK 2 CALLBACK 2 CALLBACK 2 CALLBACK 2 CALLBACK 2 CALLBACK 2 CALLBACK 2 CALLBACK 2 CALLBACK 2\n@app.callback(Output(component_id='success-payload-scatter-chart', component_property='figure'),\n              [Input(component_id='site-dropdown', component_property='value'),\n              Input(component_id='payload-slider', component_property='value')])\ndef get_scatter_chart(entered_site,value):\n    spacex_pl_df = spacex_df[spacex_df['Payload Mass (kg)'].between(value[0], value[1], inclusive=True)]\n    filtered_ls_df = spacex_df[spacex_df['Launch Site']==entered_site]\n    filtered_pm_df = filtered_ls_df[filtered_ls_df['Payload Mass (kg)'].between(value[0], value[1], inclusive=True)]\n    #count_class1 = filtered_pm_df['class'].sum()\n    #count_class2 = filtered_ls_df['class'].sum()\n    if entered_site == 'ALL':\n        fig = px.scatter(spacex_pl_df, x='Payload Mass (kg)', \n        y='class', color='Booster Version Category',\n        title='Correlation between Payload and Success for all Sites')\n        return fig\n    else:\n        # return the outcomes piechart for a selected site\n        fig = px.scatter(filtered_pm_df, x='Payload Mass (kg)',\n        y='class', color='Booster Version Category',\n        title=('Payload and Booster versions for site %s' % entered_site))\n        return fig\n\n# Run the app\nif __name__ == '__main__':\n    app.run_server()",
            "execution_count": null,
            "outputs": [
                {
                    "output_type": "stream",
                    "text": "Dash is running on http://127.0.0.1:8050/\n\n * Serving Flask app '__main__'\n * Debug mode: off\n",
                    "name": "stdout"
                },
                {
                    "output_type": "stream",
                    "text": "\u001b[31m\u001b[1mWARNING: This is a development server. Do not use it in a production deployment. Use a production WSGI server instead.\u001b[0m\n * Running on http://127.0.0.1:8050\n\u001b[33mPress CTRL+C to quit\u001b[0m\n",
                    "name": "stderr"
                }
            ]
        }
    ],
    "metadata": {
        "kernelspec": {
            "name": "python3",
            "display_name": "Python 3.9",
            "language": "python"
        },
        "language_info": {
            "name": "python",
            "version": "3.9.13",
            "mimetype": "text/x-python",
            "codemirror_mode": {
                "name": "ipython",
                "version": 3
            },
            "pygments_lexer": "ipython3",
            "nbconvert_exporter": "python",
            "file_extension": ".py"
        },
        "vscode": {
            "interpreter": {
                "hash": "8c94b101bef2d278831e7ec00ee29dd730a1e6285a5062109079357a7d28d2c0"
            }
        }
    },
    "nbformat": 4,
    "nbformat_minor": 2
}